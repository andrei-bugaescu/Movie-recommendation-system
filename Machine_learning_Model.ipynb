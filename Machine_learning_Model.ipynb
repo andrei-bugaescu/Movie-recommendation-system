{
  "nbformat": 4,
  "nbformat_minor": 0,
  "metadata": {
    "colab": {
      "name": "Machine learning Model.ipynb",
      "provenance": [],
      "collapsed_sections": []
    },
    "kernelspec": {
      "name": "python3",
      "display_name": "Python 3"
    },
    "language_info": {
      "name": "python"
    }
  },
  "cells": [
    {
      "cell_type": "code",
      "metadata": {
        "id": "GfkdHMqvBVXI",
        "colab": {
          "base_uri": "https://localhost:8080/"
        },
        "outputId": "f9b1c0e2-52da-4e1a-c36d-639463f5eec2"
      },
      "source": [
        "from google.colab import drive\n",
        "drive.mount('/content/drive')"
      ],
      "execution_count": null,
      "outputs": [
        {
          "output_type": "stream",
          "name": "stdout",
          "text": [
            "Mounted at /content/drive\n"
          ]
        }
      ]
    },
    {
      "cell_type": "code",
      "metadata": {
        "id": "VpL0bkZ-BtlE",
        "colab": {
          "base_uri": "https://localhost:8080/"
        },
        "outputId": "fae522f7-396d-40d0-9241-15e36e89637b"
      },
      "source": [
        "#Initilisation / upload of librairies\n",
        "!pip install import_ipynb\n",
        "!pip install panda\n",
        "import os\n",
        "import import_ipynb\n",
        "import pandas as pd\n",
        "import numpy as np\n",
        "from datetime import datetime\n",
        "import os\n",
        "\n",
        "class style():\n",
        "  BLACK = '\\033[30m'\n",
        "  RED = '\\033[31m'\n",
        "  GREEN = '\\033[32m'\n",
        "  YELLOW = '\\033[33m'\n",
        "  BLUE = '\\033[34m'\n",
        "  MAGENTA = '\\033[35m'\n",
        "  CYAN = '\\033[36m'\n",
        "  WHITE = '\\033[37m'\n",
        "  UNDERLINE = '\\033[4m'\n",
        "  RESET = '\\033[0m'\n",
        "\n",
        "%cd '/content/drive/MyDrive/Wild Code School/Kung Fu Pandas/Modules/'\n",
        "from data_formatting import *"
      ],
      "execution_count": null,
      "outputs": [
        {
          "output_type": "stream",
          "name": "stdout",
          "text": [
            "Collecting import_ipynb\n",
            "  Downloading import-ipynb-0.1.3.tar.gz (4.0 kB)\n",
            "Building wheels for collected packages: import-ipynb\n",
            "  Building wheel for import-ipynb (setup.py) ... \u001b[?25l\u001b[?25hdone\n",
            "  Created wheel for import-ipynb: filename=import_ipynb-0.1.3-py3-none-any.whl size=2975 sha256=fdb355861a324dce2132b224b2b26b401e4302c141e6a35ba31c900390f4ff94\n",
            "  Stored in directory: /root/.cache/pip/wheels/b1/5e/dc/79780689896a056199b0b9f24471e3ee184fbd816df355d5f0\n",
            "Successfully built import-ipynb\n",
            "Installing collected packages: import-ipynb\n",
            "Successfully installed import-ipynb-0.1.3\n",
            "Collecting panda\n",
            "  Downloading panda-0.3.1.tar.gz (5.8 kB)\n",
            "Requirement already satisfied: setuptools in /usr/local/lib/python3.7/dist-packages (from panda) (57.4.0)\n",
            "Requirement already satisfied: requests in /usr/local/lib/python3.7/dist-packages (from panda) (2.23.0)\n",
            "Requirement already satisfied: urllib3!=1.25.0,!=1.25.1,<1.26,>=1.21.1 in /usr/local/lib/python3.7/dist-packages (from requests->panda) (1.24.3)\n",
            "Requirement already satisfied: certifi>=2017.4.17 in /usr/local/lib/python3.7/dist-packages (from requests->panda) (2021.10.8)\n",
            "Requirement already satisfied: chardet<4,>=3.0.2 in /usr/local/lib/python3.7/dist-packages (from requests->panda) (3.0.4)\n",
            "Requirement already satisfied: idna<3,>=2.5 in /usr/local/lib/python3.7/dist-packages (from requests->panda) (2.10)\n",
            "Building wheels for collected packages: panda\n",
            "  Building wheel for panda (setup.py) ... \u001b[?25l\u001b[?25hdone\n",
            "  Created wheel for panda: filename=panda-0.3.1-py3-none-any.whl size=7255 sha256=1f68e2b8396fc036607eb4957d541b9f23c9a087db1b1e962e4b6601baecb223\n",
            "  Stored in directory: /root/.cache/pip/wheels/e6/3d/81/a3665ce657d35359ca337b1db2975dbe5cd281a88b8982f6b6\n",
            "Successfully built panda\n",
            "Installing collected packages: panda\n",
            "Successfully installed panda-0.3.1\n",
            "/content/drive/.shortcut-targets-by-id/1iYrLEW3yrtr1S1PEjB-TFMG9lQLdWpC1/Kung Fu Pandas/Modules\n",
            "importing Jupyter notebook from data_formatting.ipynb\n"
          ]
        }
      ]
    },
    {
      "cell_type": "code",
      "metadata": {
        "id": "sRwOv2XzB2Tl"
      },
      "source": [
        "#import data tables from 'movies data repertory'\n",
        "file_path = '/content/drive/MyDrive/Wild Code School/Kung Fu Pandas/Database/Movies_data/'\n",
        "separator = \"\\t\"\n",
        "file_names = {'titl2_df':'title.basics.tsv.gz',\n",
        "              'titl1_df':'title.akas.tsv.gz',\n",
        "              'crew_df':'title.crew.tsv.gz',\n",
        "              'principals_df' :'title.principals.tsv.gz',\n",
        "              'rating_df':'title.ratings.tsv.gz',\n",
        "              'name_df':'name.basics.tsv.gz'}\n",
        "          \n",
        "df_dict = {'titl2_df':'','titl1_df':'','crew_df':'','principals_df':'','rating_df':'','name_df':''}\n",
        "columns_names = {'titl2_df':['titleID','titletype','primarytitle','originaltitle','isadult','startyear','endyear','runtimeminutes','genre'],\n",
        "                 'titl1_df':['titleID','ordering','title','region','country','language','types','attributes','isoriginaltitle'],\n",
        "                 'crew_df' :['titleID','directors','writers'],\n",
        "                 'principals_df':['titleID','ordering','nameID','category','job','characters'],\n",
        "                 'rating_df':['titleID','averagerating','numvotes'],\n",
        "                 'name_df':['nameID','name','birthyear','deathyear','primaryprofession','mainmovies']}\n",
        "\n",
        "for keys,values in df_dict.items():\n",
        "  df_dict.update({keys : import_database(file_path,file_names[keys],separator,columns_names[keys])})"
      ],
      "execution_count": null,
      "outputs": []
    },
    {
      "cell_type": "code",
      "metadata": {
        "id": "Lb7dYJRau57z"
      },
      "source": [
        "#-------------------------------------------------\n",
        "#NEW CODE FOR IMPORT TOP RATING MOVIES \"COUNTRIES\"\n",
        "#-------------------------------------------------\n",
        "\n",
        "#Import countries(ImdB scraping)\n",
        "file_path = '/content/drive/MyDrive/Wild Code School/Kung Fu Pandas/Database/Imdb scrapping/'\n",
        "separator = \"\\t\"\n",
        "file_name = 'countries.tsv.gz'   \n",
        "columns_names = ['titleID','title','country']\n",
        "df_countries_imdb = import_database(file_path,file_name,separator,columns_names)\n"
      ],
      "execution_count": null,
      "outputs": []
    },
    {
      "cell_type": "code",
      "metadata": {
        "id": "m1onTHeCBgas"
      },
      "source": [
        "#-------------------------------------------------\n",
        "#NEW CODE FOR IMPORT URL / SYNOPSIS\n",
        "#-------------------------------------------------\n",
        "\n",
        "#import url & synopsis (ImdB scrappin Antony)\n",
        "file_path = '/content/drive/MyDrive/Wild Code School/Kung Fu Pandas/Database/Imdb scrapping/'\n",
        "separator = \"\\t\"\n",
        "file_name = 'synopsis_poster.csv'  \n",
        "columns_names = ['titleID','title','country']\n",
        "df_synopsis_poster_imdb = pd.read_csv(file_path+file_name,sep=',')\n",
        "df_synopsis_poster_imdb = df_synopsis_poster_imdb.drop(columns='Unnamed: 0')"
      ],
      "execution_count": null,
      "outputs": []
    },
    {
      "cell_type": "code",
      "metadata": {
        "id": "_aUdz2C8vmV9"
      },
      "source": [
        "df_countries_imdb = df_countries_imdb.loc[:,['titleID','country']]\n",
        "df_countries_imdb['country'] = df_countries_imdb.loc[:,'country'].apply(lambda x: x.strip(\"[]' \"))\n",
        "df_countries_imdb['country'] = df_countries_imdb['country'].apply(lambda x: x.replace(\"'\",\"\"))"
      ],
      "execution_count": null,
      "outputs": []
    },
    {
      "cell_type": "code",
      "metadata": {
        "id": "fOfgXUyz0UFf"
      },
      "source": [
        "#Choice 2 : filtering titl1 data\n",
        "df_dict['titl1_df'] = df_dict['titl1_df'][df_dict['titl1_df']['isoriginaltitle'] == 1]\n",
        "df_dict['titl1_df'].drop_duplicates(subset='titleID',inplace=True,keep='last')"
      ],
      "execution_count": null,
      "outputs": []
    },
    {
      "cell_type": "code",
      "metadata": {
        "id": "3tz5bi4sOhet"
      },
      "source": [
        "#Suppression of unecessary columns (not to be used by the ML model)\n",
        "df_dict['titl2_df'] = df_dict['titl2_df'].drop(columns=['titletype','primarytitle','originaltitle','endyear']) \n",
        "df_dict['titl1_df'] = df_dict['titl1_df'].drop(columns=['ordering','region','language','types','attributes','isoriginaltitle','country'])\n",
        "df_dict['principals_df'] = df_dict['principals_df'].drop(columns=['ordering','job','characters'])\n",
        "df_dict['name_df'] = df_dict['name_df'].drop(columns=['birthyear','deathyear','primaryprofession','mainmovies'])"
      ],
      "execution_count": null,
      "outputs": []
    },
    {
      "cell_type": "code",
      "metadata": {
        "id": "P9we4fQrJNxw"
      },
      "source": [
        "df_directors = df_dict['principals_df'][df_dict['principals_df']['category'] == 'director']"
      ],
      "execution_count": null,
      "outputs": []
    },
    {
      "cell_type": "code",
      "metadata": {
        "id": "o0fi1fqbJmaK"
      },
      "source": [
        "df_directors = pd.merge(df_directors,df_countries_imdb,on='titleID',how='inner')\n",
        "df_directors.drop_duplicates(subset='titleID',inplace=True,keep='first')\n",
        "df_directors.drop(columns='country',inplace=True)\n",
        "df_directors = pd.merge(df_directors,df_dict['name_df'],how='left',on='nameID')\n",
        "df_directors.drop(columns=['category','nameID'],inplace=True)\n",
        "df_directors.rename(columns={'name' : 'director'},inplace=True)"
      ],
      "execution_count": null,
      "outputs": []
    },
    {
      "cell_type": "code",
      "metadata": {
        "id": "xRl6WGOg5xDf"
      },
      "source": [
        "df_actors = df_dict['principals_df'][df_dict['principals_df']['category'] == 'actor']\n",
        "df_actress = df_dict['principals_df'][df_dict['principals_df']['category'] == 'actress']"
      ],
      "execution_count": null,
      "outputs": []
    },
    {
      "cell_type": "code",
      "metadata": {
        "id": "WTuQvpBk7CjZ"
      },
      "source": [
        "df_act = pd.concat([df_actors,df_actress])\n",
        "df_act = pd.merge(df_countries_imdb,df_act,how='left',on='titleID')"
      ],
      "execution_count": null,
      "outputs": []
    },
    {
      "cell_type": "code",
      "metadata": {
        "id": "VicPB1J-C0gY"
      },
      "source": [
        "df_act = pd.merge(df_act,df_dict['name_df'],how='left',on='nameID')"
      ],
      "execution_count": null,
      "outputs": []
    },
    {
      "cell_type": "code",
      "metadata": {
        "colab": {
          "base_uri": "https://localhost:8080/",
          "height": 204
        },
        "id": "f3qEg-Z4C6lb",
        "outputId": "1acdb466-20b3-4015-8dbb-042bd3e1a839"
      },
      "source": [
        "df_act.head(5)"
      ],
      "execution_count": null,
      "outputs": [
        {
          "output_type": "execute_result",
          "data": {
            "text/html": [
              "<div>\n",
              "<style scoped>\n",
              "    .dataframe tbody tr th:only-of-type {\n",
              "        vertical-align: middle;\n",
              "    }\n",
              "\n",
              "    .dataframe tbody tr th {\n",
              "        vertical-align: top;\n",
              "    }\n",
              "\n",
              "    .dataframe thead th {\n",
              "        text-align: right;\n",
              "    }\n",
              "</style>\n",
              "<table border=\"1\" class=\"dataframe\">\n",
              "  <thead>\n",
              "    <tr style=\"text-align: right;\">\n",
              "      <th></th>\n",
              "      <th>titleID</th>\n",
              "      <th>country</th>\n",
              "      <th>nameID</th>\n",
              "      <th>category</th>\n",
              "      <th>name</th>\n",
              "    </tr>\n",
              "  </thead>\n",
              "  <tbody>\n",
              "    <tr>\n",
              "      <th>0</th>\n",
              "      <td>tt0006864</td>\n",
              "      <td>United States</td>\n",
              "      <td>nm0366008</td>\n",
              "      <td>actor</td>\n",
              "      <td>Robert Harron</td>\n",
              "    </tr>\n",
              "    <tr>\n",
              "      <th>1</th>\n",
              "      <td>tt0006864</td>\n",
              "      <td>United States</td>\n",
              "      <td>nm0877548</td>\n",
              "      <td>actor</td>\n",
              "      <td>F.A. Turner</td>\n",
              "    </tr>\n",
              "    <tr>\n",
              "      <th>2</th>\n",
              "      <td>tt0006864</td>\n",
              "      <td>United States</td>\n",
              "      <td>nm0001273</td>\n",
              "      <td>actress</td>\n",
              "      <td>Lillian Gish</td>\n",
              "    </tr>\n",
              "    <tr>\n",
              "      <th>3</th>\n",
              "      <td>tt0006864</td>\n",
              "      <td>United States</td>\n",
              "      <td>nm0550615</td>\n",
              "      <td>actress</td>\n",
              "      <td>Mae Marsh</td>\n",
              "    </tr>\n",
              "    <tr>\n",
              "      <th>4</th>\n",
              "      <td>tt0010323</td>\n",
              "      <td>Germany</td>\n",
              "      <td>nm0470328</td>\n",
              "      <td>actor</td>\n",
              "      <td>Werner Krauss</td>\n",
              "    </tr>\n",
              "  </tbody>\n",
              "</table>\n",
              "</div>"
            ],
            "text/plain": [
              "     titleID        country     nameID category           name\n",
              "0  tt0006864  United States  nm0366008    actor  Robert Harron\n",
              "1  tt0006864  United States  nm0877548    actor    F.A. Turner\n",
              "2  tt0006864  United States  nm0001273  actress   Lillian Gish\n",
              "3  tt0006864  United States  nm0550615  actress      Mae Marsh\n",
              "4  tt0010323        Germany  nm0470328    actor  Werner Krauss"
            ]
          },
          "metadata": {},
          "execution_count": 14
        }
      ]
    },
    {
      "cell_type": "code",
      "metadata": {
        "id": "KMXew6uI8EnB"
      },
      "source": [
        "df_act.drop(columns=['country','category','nameID'],inplace=True)"
      ],
      "execution_count": null,
      "outputs": []
    },
    {
      "cell_type": "code",
      "metadata": {
        "colab": {
          "base_uri": "https://localhost:8080/"
        },
        "id": "dXkOGZUP_HS7",
        "outputId": "183ad548-9465-483d-da7f-9aae5046f742"
      },
      "source": [
        "df_act = df_act.astype(str)\n",
        "nb_max_actors_per_movie = df_act['titleID'].value_counts().max()\n",
        "print(nb_max_actors_per_movie)\n",
        "# 10 actors max per movie"
      ],
      "execution_count": null,
      "outputs": [
        {
          "output_type": "stream",
          "name": "stdout",
          "text": [
            "10\n"
          ]
        }
      ]
    },
    {
      "cell_type": "code",
      "metadata": {
        "id": "6yGiZMvO_Vw8"
      },
      "source": [
        "df_act = df_act.groupby('titleID')['name'].apply(','.join).reset_index()"
      ],
      "execution_count": null,
      "outputs": []
    },
    {
      "cell_type": "code",
      "metadata": {
        "colab": {
          "base_uri": "https://localhost:8080/",
          "height": 80
        },
        "id": "JSMkdVsdBMvn",
        "outputId": "a40120d8-8a7b-486a-faea-55c1b7bb6a51"
      },
      "source": [
        "df_act.head(1)"
      ],
      "execution_count": null,
      "outputs": [
        {
          "output_type": "execute_result",
          "data": {
            "text/html": [
              "<div>\n",
              "<style scoped>\n",
              "    .dataframe tbody tr th:only-of-type {\n",
              "        vertical-align: middle;\n",
              "    }\n",
              "\n",
              "    .dataframe tbody tr th {\n",
              "        vertical-align: top;\n",
              "    }\n",
              "\n",
              "    .dataframe thead th {\n",
              "        text-align: right;\n",
              "    }\n",
              "</style>\n",
              "<table border=\"1\" class=\"dataframe\">\n",
              "  <thead>\n",
              "    <tr style=\"text-align: right;\">\n",
              "      <th></th>\n",
              "      <th>titleID</th>\n",
              "      <th>name</th>\n",
              "    </tr>\n",
              "  </thead>\n",
              "  <tbody>\n",
              "    <tr>\n",
              "      <th>0</th>\n",
              "      <td>tt0006864</td>\n",
              "      <td>Robert Harron,F.A. Turner,Lillian Gish,Mae Marsh</td>\n",
              "    </tr>\n",
              "  </tbody>\n",
              "</table>\n",
              "</div>"
            ],
            "text/plain": [
              "     titleID                                              name\n",
              "0  tt0006864  Robert Harron,F.A. Turner,Lillian Gish,Mae Marsh"
            ]
          },
          "metadata": {},
          "execution_count": 18
        }
      ]
    },
    {
      "cell_type": "code",
      "metadata": {
        "id": "2KcpuilWBuXX"
      },
      "source": [
        "df_act = df_act['name'].str.split(',',expand=True,)"
      ],
      "execution_count": null,
      "outputs": []
    },
    {
      "cell_type": "code",
      "metadata": {
        "id": "gzVa3nBhDs2p"
      },
      "source": [
        "df_act = df_act.fillna('unknown')"
      ],
      "execution_count": null,
      "outputs": []
    },
    {
      "cell_type": "code",
      "metadata": {
        "colab": {
          "base_uri": "https://localhost:8080/",
          "height": 419
        },
        "id": "txyWRrYMD9HL",
        "outputId": "044db153-ca12-4558-e7ba-88cce2171cbb"
      },
      "source": [
        "df_act"
      ],
      "execution_count": null,
      "outputs": [
        {
          "output_type": "execute_result",
          "data": {
            "text/html": [
              "<div>\n",
              "<style scoped>\n",
              "    .dataframe tbody tr th:only-of-type {\n",
              "        vertical-align: middle;\n",
              "    }\n",
              "\n",
              "    .dataframe tbody tr th {\n",
              "        vertical-align: top;\n",
              "    }\n",
              "\n",
              "    .dataframe thead th {\n",
              "        text-align: right;\n",
              "    }\n",
              "</style>\n",
              "<table border=\"1\" class=\"dataframe\">\n",
              "  <thead>\n",
              "    <tr style=\"text-align: right;\">\n",
              "      <th></th>\n",
              "      <th>0</th>\n",
              "      <th>1</th>\n",
              "      <th>2</th>\n",
              "      <th>3</th>\n",
              "      <th>4</th>\n",
              "      <th>5</th>\n",
              "      <th>6</th>\n",
              "      <th>7</th>\n",
              "      <th>8</th>\n",
              "      <th>9</th>\n",
              "    </tr>\n",
              "  </thead>\n",
              "  <tbody>\n",
              "    <tr>\n",
              "      <th>0</th>\n",
              "      <td>Robert Harron</td>\n",
              "      <td>F.A. Turner</td>\n",
              "      <td>Lillian Gish</td>\n",
              "      <td>Mae Marsh</td>\n",
              "      <td>unknown</td>\n",
              "      <td>unknown</td>\n",
              "      <td>unknown</td>\n",
              "      <td>unknown</td>\n",
              "      <td>unknown</td>\n",
              "      <td>unknown</td>\n",
              "    </tr>\n",
              "    <tr>\n",
              "      <th>1</th>\n",
              "      <td>Werner Krauss</td>\n",
              "      <td>Conrad Veidt</td>\n",
              "      <td>Friedrich Feher</td>\n",
              "      <td>Lil Dagover</td>\n",
              "      <td>unknown</td>\n",
              "      <td>unknown</td>\n",
              "      <td>unknown</td>\n",
              "      <td>unknown</td>\n",
              "      <td>unknown</td>\n",
              "      <td>unknown</td>\n",
              "    </tr>\n",
              "    <tr>\n",
              "      <th>2</th>\n",
              "      <td>B.F. Blinn</td>\n",
              "      <td>Charles Chaplin</td>\n",
              "      <td>Jackie Coogan</td>\n",
              "      <td>Carl Miller</td>\n",
              "      <td>Albert Austin</td>\n",
              "      <td>Henry Bergman</td>\n",
              "      <td>Edward Biby</td>\n",
              "      <td>Edna Purviance</td>\n",
              "      <td>Beulah Bains</td>\n",
              "      <td>Nellie Bly Baker</td>\n",
              "    </tr>\n",
              "    <tr>\n",
              "      <th>3</th>\n",
              "      <td>Einar Axelsson</td>\n",
              "      <td>Victor Sjöström</td>\n",
              "      <td>Tore Svennberg</td>\n",
              "      <td>Tor Weijden</td>\n",
              "      <td>Hilda Borgström</td>\n",
              "      <td>Astrid Holm</td>\n",
              "      <td>Concordia Selander</td>\n",
              "      <td>Lisa Lundholm</td>\n",
              "      <td>unknown</td>\n",
              "      <td>unknown</td>\n",
              "    </tr>\n",
              "    <tr>\n",
              "      <th>4</th>\n",
              "      <td>Benjamin Christensen</td>\n",
              "      <td>Elisabeth Christensen</td>\n",
              "      <td>Maren Pedersen</td>\n",
              "      <td>Clara Pontoppidan</td>\n",
              "      <td>unknown</td>\n",
              "      <td>unknown</td>\n",
              "      <td>unknown</td>\n",
              "      <td>unknown</td>\n",
              "      <td>unknown</td>\n",
              "      <td>unknown</td>\n",
              "    </tr>\n",
              "    <tr>\n",
              "      <th>...</th>\n",
              "      <td>...</td>\n",
              "      <td>...</td>\n",
              "      <td>...</td>\n",
              "      <td>...</td>\n",
              "      <td>...</td>\n",
              "      <td>...</td>\n",
              "      <td>...</td>\n",
              "      <td>...</td>\n",
              "      <td>...</td>\n",
              "      <td>...</td>\n",
              "    </tr>\n",
              "    <tr>\n",
              "      <th>5455</th>\n",
              "      <td>David Strathairn</td>\n",
              "      <td>Gay DeForest</td>\n",
              "      <td>Frances McDormand</td>\n",
              "      <td>Linda May</td>\n",
              "      <td>unknown</td>\n",
              "      <td>unknown</td>\n",
              "      <td>unknown</td>\n",
              "      <td>unknown</td>\n",
              "      <td>unknown</td>\n",
              "      <td>unknown</td>\n",
              "    </tr>\n",
              "    <tr>\n",
              "      <th>5456</th>\n",
              "      <td>Chris Pratt</td>\n",
              "      <td>J.K. Simmons</td>\n",
              "      <td>Yvonne Strahovski</td>\n",
              "      <td>Betty Gilpin</td>\n",
              "      <td>unknown</td>\n",
              "      <td>unknown</td>\n",
              "      <td>unknown</td>\n",
              "      <td>unknown</td>\n",
              "      <td>unknown</td>\n",
              "      <td>unknown</td>\n",
              "    </tr>\n",
              "    <tr>\n",
              "      <th>5457</th>\n",
              "      <td>Daniel Kaluuya</td>\n",
              "      <td>LaKeith Stanfield</td>\n",
              "      <td>Jesse Plemons</td>\n",
              "      <td>Dominique Fishback</td>\n",
              "      <td>unknown</td>\n",
              "      <td>unknown</td>\n",
              "      <td>unknown</td>\n",
              "      <td>unknown</td>\n",
              "      <td>unknown</td>\n",
              "      <td>unknown</td>\n",
              "    </tr>\n",
              "    <tr>\n",
              "      <th>5458</th>\n",
              "      <td>Hakim Faris</td>\n",
              "      <td>Patrick d'Assumçao</td>\n",
              "      <td>Alfonso Arfi</td>\n",
              "      <td>Victoire Du Bois</td>\n",
              "      <td>unknown</td>\n",
              "      <td>unknown</td>\n",
              "      <td>unknown</td>\n",
              "      <td>unknown</td>\n",
              "      <td>unknown</td>\n",
              "      <td>unknown</td>\n",
              "    </tr>\n",
              "    <tr>\n",
              "      <th>5459</th>\n",
              "      <td>Payman Maadi</td>\n",
              "      <td>Navid Mohammadzadeh</td>\n",
              "      <td>Farhad Aslani</td>\n",
              "      <td>Parinaz Izadyar</td>\n",
              "      <td>unknown</td>\n",
              "      <td>unknown</td>\n",
              "      <td>unknown</td>\n",
              "      <td>unknown</td>\n",
              "      <td>unknown</td>\n",
              "      <td>unknown</td>\n",
              "    </tr>\n",
              "  </tbody>\n",
              "</table>\n",
              "<p>5460 rows × 10 columns</p>\n",
              "</div>"
            ],
            "text/plain": [
              "                         0  ...                 9\n",
              "0            Robert Harron  ...           unknown\n",
              "1            Werner Krauss  ...           unknown\n",
              "2               B.F. Blinn  ...  Nellie Bly Baker\n",
              "3           Einar Axelsson  ...           unknown\n",
              "4     Benjamin Christensen  ...           unknown\n",
              "...                    ...  ...               ...\n",
              "5455      David Strathairn  ...           unknown\n",
              "5456           Chris Pratt  ...           unknown\n",
              "5457        Daniel Kaluuya  ...           unknown\n",
              "5458           Hakim Faris  ...           unknown\n",
              "5459          Payman Maadi  ...           unknown\n",
              "\n",
              "[5460 rows x 10 columns]"
            ]
          },
          "metadata": {},
          "execution_count": 21
        }
      ]
    },
    {
      "cell_type": "code",
      "metadata": {
        "id": "DEa0XRVyZmrG"
      },
      "source": [
        "#Merge tables\n",
        "merged_df = pd.merge(df_dict['titl1_df'],df_dict['titl2_df'],how='left',on='titleID')\n",
        "merged_df = pd.merge(merged_df,df_dict['rating_df'],how='left',on='titleID')\n",
        "merged_df = pd.merge(merged_df,df_directors,how='left',on='titleID')"
      ],
      "execution_count": null,
      "outputs": []
    },
    {
      "cell_type": "code",
      "metadata": {
        "colab": {
          "base_uri": "https://localhost:8080/",
          "height": 419
        },
        "id": "H9KjETe5Tz_O",
        "outputId": "4d9bae07-125d-4c23-9df6-7395cad2b4c7"
      },
      "source": [
        "merged_df"
      ],
      "execution_count": null,
      "outputs": [
        {
          "output_type": "execute_result",
          "data": {
            "text/html": [
              "<div>\n",
              "<style scoped>\n",
              "    .dataframe tbody tr th:only-of-type {\n",
              "        vertical-align: middle;\n",
              "    }\n",
              "\n",
              "    .dataframe tbody tr th {\n",
              "        vertical-align: top;\n",
              "    }\n",
              "\n",
              "    .dataframe thead th {\n",
              "        text-align: right;\n",
              "    }\n",
              "</style>\n",
              "<table border=\"1\" class=\"dataframe\">\n",
              "  <thead>\n",
              "    <tr style=\"text-align: right;\">\n",
              "      <th></th>\n",
              "      <th>titleID</th>\n",
              "      <th>title</th>\n",
              "      <th>isadult</th>\n",
              "      <th>startyear</th>\n",
              "      <th>runtimeminutes</th>\n",
              "      <th>genre</th>\n",
              "      <th>averagerating</th>\n",
              "      <th>numvotes</th>\n",
              "      <th>director</th>\n",
              "    </tr>\n",
              "  </thead>\n",
              "  <tbody>\n",
              "    <tr>\n",
              "      <th>0</th>\n",
              "      <td>tt0000502</td>\n",
              "      <td>Bohemios</td>\n",
              "      <td>0.0</td>\n",
              "      <td>1905.0</td>\n",
              "      <td>100.0</td>\n",
              "      <td>NaN</td>\n",
              "      <td>4.0</td>\n",
              "      <td>14.0</td>\n",
              "      <td>NaN</td>\n",
              "    </tr>\n",
              "    <tr>\n",
              "      <th>1</th>\n",
              "      <td>tt0000574</td>\n",
              "      <td>The Story of the Kelly Gang</td>\n",
              "      <td>0.0</td>\n",
              "      <td>1906.0</td>\n",
              "      <td>70.0</td>\n",
              "      <td>Action,Adventure,Biography</td>\n",
              "      <td>6.0</td>\n",
              "      <td>699.0</td>\n",
              "      <td>NaN</td>\n",
              "    </tr>\n",
              "    <tr>\n",
              "      <th>2</th>\n",
              "      <td>tt0000591</td>\n",
              "      <td>L'enfant prodigue</td>\n",
              "      <td>0.0</td>\n",
              "      <td>1907.0</td>\n",
              "      <td>90.0</td>\n",
              "      <td>Drama</td>\n",
              "      <td>5.0</td>\n",
              "      <td>16.0</td>\n",
              "      <td>NaN</td>\n",
              "    </tr>\n",
              "    <tr>\n",
              "      <th>3</th>\n",
              "      <td>tt0000615</td>\n",
              "      <td>Robbery Under Arms</td>\n",
              "      <td>0.0</td>\n",
              "      <td>1907.0</td>\n",
              "      <td>NaN</td>\n",
              "      <td>Drama</td>\n",
              "      <td>4.0</td>\n",
              "      <td>23.0</td>\n",
              "      <td>NaN</td>\n",
              "    </tr>\n",
              "    <tr>\n",
              "      <th>4</th>\n",
              "      <td>tt0000630</td>\n",
              "      <td>Amleto</td>\n",
              "      <td>0.0</td>\n",
              "      <td>1908.0</td>\n",
              "      <td>NaN</td>\n",
              "      <td>Drama</td>\n",
              "      <td>4.0</td>\n",
              "      <td>23.0</td>\n",
              "      <td>NaN</td>\n",
              "    </tr>\n",
              "    <tr>\n",
              "      <th>...</th>\n",
              "      <td>...</td>\n",
              "      <td>...</td>\n",
              "      <td>...</td>\n",
              "      <td>...</td>\n",
              "      <td>...</td>\n",
              "      <td>...</td>\n",
              "      <td>...</td>\n",
              "      <td>...</td>\n",
              "      <td>...</td>\n",
              "    </tr>\n",
              "    <tr>\n",
              "      <th>420442</th>\n",
              "      <td>tt9916362</td>\n",
              "      <td>Akelarre</td>\n",
              "      <td>0.0</td>\n",
              "      <td>2020.0</td>\n",
              "      <td>92.0</td>\n",
              "      <td>Drama,History</td>\n",
              "      <td>6.0</td>\n",
              "      <td>3998.0</td>\n",
              "      <td>NaN</td>\n",
              "    </tr>\n",
              "    <tr>\n",
              "      <th>420443</th>\n",
              "      <td>tt9916428</td>\n",
              "      <td>Hong xing zhao yao Zhong guo</td>\n",
              "      <td>0.0</td>\n",
              "      <td>2019.0</td>\n",
              "      <td>NaN</td>\n",
              "      <td>Adventure,History,War</td>\n",
              "      <td>4.0</td>\n",
              "      <td>14.0</td>\n",
              "      <td>NaN</td>\n",
              "    </tr>\n",
              "    <tr>\n",
              "      <th>420444</th>\n",
              "      <td>tt9916622</td>\n",
              "      <td>Rodolpho Teóphilo - O Legado de um Pioneiro</td>\n",
              "      <td>0.0</td>\n",
              "      <td>2015.0</td>\n",
              "      <td>57.0</td>\n",
              "      <td>Documentary</td>\n",
              "      <td>NaN</td>\n",
              "      <td>NaN</td>\n",
              "      <td>NaN</td>\n",
              "    </tr>\n",
              "    <tr>\n",
              "      <th>420445</th>\n",
              "      <td>tt9916680</td>\n",
              "      <td>De la ilusión al desconcierto: cine colombiano...</td>\n",
              "      <td>0.0</td>\n",
              "      <td>2007.0</td>\n",
              "      <td>100.0</td>\n",
              "      <td>Documentary</td>\n",
              "      <td>NaN</td>\n",
              "      <td>NaN</td>\n",
              "      <td>NaN</td>\n",
              "    </tr>\n",
              "    <tr>\n",
              "      <th>420446</th>\n",
              "      <td>tt9916754</td>\n",
              "      <td>Chico Albuquerque - Revelações</td>\n",
              "      <td>0.0</td>\n",
              "      <td>2013.0</td>\n",
              "      <td>49.0</td>\n",
              "      <td>Documentary</td>\n",
              "      <td>NaN</td>\n",
              "      <td>NaN</td>\n",
              "      <td>NaN</td>\n",
              "    </tr>\n",
              "  </tbody>\n",
              "</table>\n",
              "<p>420447 rows × 9 columns</p>\n",
              "</div>"
            ],
            "text/plain": [
              "          titleID  ... director\n",
              "0       tt0000502  ...      NaN\n",
              "1       tt0000574  ...      NaN\n",
              "2       tt0000591  ...      NaN\n",
              "3       tt0000615  ...      NaN\n",
              "4       tt0000630  ...      NaN\n",
              "...           ...  ...      ...\n",
              "420442  tt9916362  ...      NaN\n",
              "420443  tt9916428  ...      NaN\n",
              "420444  tt9916622  ...      NaN\n",
              "420445  tt9916680  ...      NaN\n",
              "420446  tt9916754  ...      NaN\n",
              "\n",
              "[420447 rows x 9 columns]"
            ]
          },
          "metadata": {},
          "execution_count": 24
        }
      ]
    },
    {
      "cell_type": "code",
      "metadata": {
        "id": "q9Y8DutcYXye"
      },
      "source": [
        "#Getting movies countries from dataframe df_countries_imdb (already filtered with nb votes and average rating)\n",
        "merged_df = pd.merge(df_countries_imdb,merged_df,how='left',on='titleID')\n",
        "#Getting movies synopsis and url  from dataframe df_synopsis_poster_imdb (already filtered nb votes and average rating)\n",
        "merged_df = pd.merge(merged_df,df_synopsis_poster_imdb,how='left',left_on='titleID',right_on='imdb_id')\n"
      ],
      "execution_count": null,
      "outputs": []
    },
    {
      "cell_type": "code",
      "metadata": {
        "colab": {
          "base_uri": "https://localhost:8080/",
          "height": 97
        },
        "id": "1oefXB2JQpl7",
        "outputId": "ca9e1730-eebd-4da1-8aef-156a1aef7d64"
      },
      "source": [
        "merged_df.head(1)"
      ],
      "execution_count": null,
      "outputs": [
        {
          "output_type": "execute_result",
          "data": {
            "text/html": [
              "<div>\n",
              "<style scoped>\n",
              "    .dataframe tbody tr th:only-of-type {\n",
              "        vertical-align: middle;\n",
              "    }\n",
              "\n",
              "    .dataframe tbody tr th {\n",
              "        vertical-align: top;\n",
              "    }\n",
              "\n",
              "    .dataframe thead th {\n",
              "        text-align: right;\n",
              "    }\n",
              "</style>\n",
              "<table border=\"1\" class=\"dataframe\">\n",
              "  <thead>\n",
              "    <tr style=\"text-align: right;\">\n",
              "      <th></th>\n",
              "      <th>titleID</th>\n",
              "      <th>country</th>\n",
              "      <th>title</th>\n",
              "      <th>isadult</th>\n",
              "      <th>startyear</th>\n",
              "      <th>runtimeminutes</th>\n",
              "      <th>genre</th>\n",
              "      <th>averagerating</th>\n",
              "      <th>numvotes</th>\n",
              "      <th>director</th>\n",
              "      <th>imdb_id</th>\n",
              "      <th>synopsis</th>\n",
              "      <th>poster_url</th>\n",
              "    </tr>\n",
              "  </thead>\n",
              "  <tbody>\n",
              "    <tr>\n",
              "      <th>0</th>\n",
              "      <td>tt0006864</td>\n",
              "      <td>United States</td>\n",
              "      <td>Intolerance: Love's Struggle Throughout the Ages</td>\n",
              "      <td>0.0</td>\n",
              "      <td>1916.0</td>\n",
              "      <td>163.0</td>\n",
              "      <td>Drama,History</td>\n",
              "      <td>8.0</td>\n",
              "      <td>14992.0</td>\n",
              "      <td>D.W. Griffith</td>\n",
              "      <td>tt0006864</td>\n",
              "      <td>The story of a poor young woman, separated by ...</td>\n",
              "      <td>https://www.themoviedb.org/t/p/original/mATFEp...</td>\n",
              "    </tr>\n",
              "  </tbody>\n",
              "</table>\n",
              "</div>"
            ],
            "text/plain": [
              "     titleID  ...                                         poster_url\n",
              "0  tt0006864  ...  https://www.themoviedb.org/t/p/original/mATFEp...\n",
              "\n",
              "[1 rows x 13 columns]"
            ]
          },
          "metadata": {},
          "execution_count": 26
        }
      ]
    },
    {
      "cell_type": "code",
      "metadata": {
        "id": "WhhUtawtOdVk"
      },
      "source": [
        "#Suppression of IDs (no more merge needed)\n",
        "merged_df.drop(columns=['imdb_id'],inplace=True)"
      ],
      "execution_count": null,
      "outputs": []
    },
    {
      "cell_type": "code",
      "metadata": {
        "id": "WP2T5SBvDNmm"
      },
      "source": [
        "#saving merged_df as ML_DataFrame.csv\n",
        "file_path = '/content/drive/MyDrive/Wild Code School/Kung Fu Pandas/Database/Machine learning Dataset/'\n",
        "file_name = 'ML_dataFrame.csv'\n",
        "merged_df.to_csv(file_path+file_name,sep=',',index=False)"
      ],
      "execution_count": null,
      "outputs": []
    },
    {
      "cell_type": "code",
      "metadata": {
        "id": "NTk_1FPhXNY7"
      },
      "source": [
        "#Filling NaN"
      ],
      "execution_count": null,
      "outputs": []
    },
    {
      "cell_type": "code",
      "metadata": {
        "colab": {
          "base_uri": "https://localhost:8080/"
        },
        "id": "pGO8EFjTXH9Q",
        "outputId": "acadbbe7-c0f6-49eb-8154-3fd2fd254505"
      },
      "source": [
        "merged_df.isna().sum()"
      ],
      "execution_count": null,
      "outputs": [
        {
          "output_type": "execute_result",
          "data": {
            "text/plain": [
              "titleID             0\n",
              "country             0\n",
              "title               0\n",
              "isadult             0\n",
              "startyear           0\n",
              "runtimeminutes      0\n",
              "genre               0\n",
              "averagerating       0\n",
              "numvotes            0\n",
              "director          262\n",
              "synopsis            1\n",
              "poster_url          2\n",
              "dtype: int64"
            ]
          },
          "metadata": {},
          "execution_count": 30
        }
      ]
    },
    {
      "cell_type": "code",
      "metadata": {
        "id": "pe7WkK4aXduT"
      },
      "source": [
        "merged_df.fillna('unknown',inplace=True)"
      ],
      "execution_count": null,
      "outputs": []
    },
    {
      "cell_type": "code",
      "metadata": {
        "colab": {
          "base_uri": "https://localhost:8080/"
        },
        "id": "ox2eHGkYWbwH",
        "outputId": "82c5d98d-8f9e-48e3-9d11-0cdaaeadc338"
      },
      "source": [
        "merged_df.shape"
      ],
      "execution_count": null,
      "outputs": [
        {
          "output_type": "execute_result",
          "data": {
            "text/plain": [
              "(5460, 12)"
            ]
          },
          "metadata": {},
          "execution_count": 32
        }
      ]
    },
    {
      "cell_type": "code",
      "metadata": {
        "id": "ThlixZuXaTCj"
      },
      "source": [
        "#Get dummies for 'genre' & 'countries' & Directors\n",
        "genre_df = pd.get_dummies(merged_df['genre'].str.split(',',expand=True).replace({None:np.nan}).stack()).groupby(level=0).max()\n",
        "countries_df = pd.get_dummies(merged_df['country'].str.split(',',expand=True).replace({None:np.nan}).stack()).groupby(level=0).max()\n",
        "directors_df = pd.get_dummies(merged_df['director'].str.split(',',expand=True).replace({None:np.nan}).stack()).groupby(level=0).max()\n",
        "ML_model_df = pd.merge(merged_df,genre_df,left_index=True,right_index=True)\n",
        "ML_model_df = pd.merge(ML_model_df,countries_df,left_index=True,right_index=True)\n",
        "ML_model_df = pd.merge(ML_model_df,directors_df,left_index=True,right_index=True)"
      ],
      "execution_count": null,
      "outputs": []
    },
    {
      "cell_type": "code",
      "metadata": {
        "colab": {
          "base_uri": "https://localhost:8080/"
        },
        "id": "d2IHSimHRe3V",
        "outputId": "c7eeb514-cf40-48a0-ec1a-1546d065f121"
      },
      "source": [
        "ML_model_df.shape"
      ],
      "execution_count": null,
      "outputs": [
        {
          "output_type": "execute_result",
          "data": {
            "text/plain": [
              "(5460, 2571)"
            ]
          },
          "metadata": {},
          "execution_count": 34
        }
      ]
    },
    {
      "cell_type": "code",
      "metadata": {
        "id": "MGRHT8VKqD2T",
        "colab": {
          "base_uri": "https://localhost:8080/"
        },
        "outputId": "f602e07c-0cc7-4ba4-d453-edca035a8086"
      },
      "source": [
        "#Define Model\n",
        "from sklearn.neighbors import NearestNeighbors\n",
        "y = ML_model_df[['title']]\n",
        "#X = ML_model_df.drop(columns=['titleID','title','isadult','runtimeminutes','genre','averagerating','numvotes','country','synopsis','poster_url','director'])\n",
        "X = ML_model_df.iloc[:,12:]\n",
        "n_neighbors = 10\n",
        "model = NearestNeighbors(n_neighbors=n_neighbors)\n",
        "model.fit(X)"
      ],
      "execution_count": null,
      "outputs": [
        {
          "output_type": "execute_result",
          "data": {
            "text/plain": [
              "NearestNeighbors(n_neighbors=10)"
            ]
          },
          "metadata": {},
          "execution_count": 35
        }
      ]
    },
    {
      "cell_type": "code",
      "metadata": {
        "colab": {
          "base_uri": "https://localhost:8080/",
          "height": 563
        },
        "id": "eXab7tQpquyd",
        "outputId": "27b142b2-274a-4ce4-9cad-595b5d12dae1"
      },
      "source": [
        "###################################\n",
        "########  USER INTERFACE ##########\n",
        "###################################\n",
        "\n",
        "check = 'nok'\n",
        "while check == 'nok' :\n",
        "  print(style.BLUE,'\\033[34m',\"\\nEnter movie key word\",style.WHITE,)                 \n",
        "  title = input('')\n",
        "  list_movies = []\n",
        "  list_index = ML_model_df['title'].index[ML_model_df['title'].str.contains(title)].to_list()\n",
        "  if len(list_index) == 0 :  #no match\n",
        "    print(style.BLUE,'\\033[34m',\"\\nNo movie matching your request, please enter new key words\",style.WHITE)\n",
        "  else :\n",
        "    for index in list_index :\n",
        "      list_movies.append(ML_model_df.loc[index,'title'])\n",
        "    if len(list_movies) > 10:\n",
        "      print(style.BLUE,'\\033[34m',\"\\nToo many movies match with you input, please refine your research\",style.WHITE)\n",
        "    else :\n",
        "      print(style.BLUE,'\\033[34m','\\nDoes one of these movie matches with your request?',style.WHITE)\n",
        "      print(list_movies)\n",
        "      print(style.BLUE,'\\033[34m','\\nPlease enter Y / N',style.WHITE)\n",
        "      match = input((''))\n",
        "      if match == 'N':\n",
        "        print(style.BLUE,'\\033[34m','\\nPlease retry with other key words',style.WHITE)\n",
        "      elif match =='Y':\n",
        "        while check == 'nok' :\n",
        "          print(style.BLUE,'\\nPlease enter the full name : ',style.WHITE)\n",
        "          title = input('')\n",
        "          if (ML_model_df['title'] == title).sum() > 0 :\n",
        "            #X_input = ML_model_df[ML_model_df['title'] == title].drop(columns=['titleID','title','isadult','runtimeminutes','genre','averagerating','numvotes','country','synopsis','poster_url','director'])\n",
        "            X_input = ML_model_df[ML_model_df['title'] == title].iloc[:,12:]\n",
        "            check = 'ok'\n",
        "          else :\n",
        "            print(style.BLUE,'\\033[34m','\\nWrong name, try again',style.WHITE)         \n",
        "      \n",
        "results = model.kneighbors(X_input)\n",
        "merged_df.loc[[i for i in results[1][0,:]],['title','startyear','genre','director','runtimeminutes','isadult','averagerating','numvotes','synopsis','poster_url']]"
      ],
      "execution_count": null,
      "outputs": [
        {
          "name": "stdout",
          "output_type": "stream",
          "text": [
            "\u001b[34m \u001b[34m \n",
            "Enter movie key word \u001b[37m\n",
            "Django\n",
            "\u001b[34m \u001b[34m \n",
            "Does one of these movie matches with your request? \u001b[37m\n",
            "['Django', 'Django Unchained']\n",
            "\u001b[34m \u001b[34m \n",
            "Please enter Y / N \u001b[37m\n",
            "Y\n",
            "\u001b[34m \n",
            "Please enter the full name :  \u001b[37m\n",
            "Django Unchained\n"
          ]
        },
        {
          "output_type": "execute_result",
          "data": {
            "text/html": [
              "<div>\n",
              "<style scoped>\n",
              "    .dataframe tbody tr th:only-of-type {\n",
              "        vertical-align: middle;\n",
              "    }\n",
              "\n",
              "    .dataframe tbody tr th {\n",
              "        vertical-align: top;\n",
              "    }\n",
              "\n",
              "    .dataframe thead th {\n",
              "        text-align: right;\n",
              "    }\n",
              "</style>\n",
              "<table border=\"1\" class=\"dataframe\">\n",
              "  <thead>\n",
              "    <tr style=\"text-align: right;\">\n",
              "      <th></th>\n",
              "      <th>title</th>\n",
              "      <th>startyear</th>\n",
              "      <th>genre</th>\n",
              "      <th>director</th>\n",
              "      <th>runtimeminutes</th>\n",
              "      <th>isadult</th>\n",
              "      <th>averagerating</th>\n",
              "      <th>numvotes</th>\n",
              "      <th>synopsis</th>\n",
              "      <th>poster_url</th>\n",
              "    </tr>\n",
              "  </thead>\n",
              "  <tbody>\n",
              "    <tr>\n",
              "      <th>4264</th>\n",
              "      <td>Django Unchained</td>\n",
              "      <td>2012.0</td>\n",
              "      <td>Drama,Western</td>\n",
              "      <td>Quentin Tarantino</td>\n",
              "      <td>165.0</td>\n",
              "      <td>0.0</td>\n",
              "      <td>8.0</td>\n",
              "      <td>1432814.0</td>\n",
              "      <td>With the help of a German bounty hunter, a fre...</td>\n",
              "      <td>https://www.themoviedb.org/t/p/original/7oWY8V...</td>\n",
              "    </tr>\n",
              "    <tr>\n",
              "      <th>292</th>\n",
              "      <td>Johnny Guitar</td>\n",
              "      <td>1954.0</td>\n",
              "      <td>Drama,Western</td>\n",
              "      <td>Nicholas Ray</td>\n",
              "      <td>110.0</td>\n",
              "      <td>0.0</td>\n",
              "      <td>8.0</td>\n",
              "      <td>16788.0</td>\n",
              "      <td>On the outskirts of town, the hard-nosed Vienn...</td>\n",
              "      <td>https://www.themoviedb.org/t/p/original/slMEKs...</td>\n",
              "    </tr>\n",
              "    <tr>\n",
              "      <th>1215</th>\n",
              "      <td>Pale Rider</td>\n",
              "      <td>1985.0</td>\n",
              "      <td>Drama,Western</td>\n",
              "      <td>unknown</td>\n",
              "      <td>115.0</td>\n",
              "      <td>0.0</td>\n",
              "      <td>7.0</td>\n",
              "      <td>56561.0</td>\n",
              "      <td>A mysterious preacher protects a humble prospe...</td>\n",
              "      <td>https://www.themoviedb.org/t/p/original/yUqCtt...</td>\n",
              "    </tr>\n",
              "    <tr>\n",
              "      <th>497</th>\n",
              "      <td>Hud</td>\n",
              "      <td>1963.0</td>\n",
              "      <td>Drama,Western</td>\n",
              "      <td>Martin Ritt</td>\n",
              "      <td>112.0</td>\n",
              "      <td>0.0</td>\n",
              "      <td>8.0</td>\n",
              "      <td>20931.0</td>\n",
              "      <td>Hud Bannon is a ruthless young man who tarnish...</td>\n",
              "      <td>https://www.themoviedb.org/t/p/original/54HnZL...</td>\n",
              "    </tr>\n",
              "    <tr>\n",
              "      <th>334</th>\n",
              "      <td>Giant</td>\n",
              "      <td>1956.0</td>\n",
              "      <td>Drama,Western</td>\n",
              "      <td>George Stevens</td>\n",
              "      <td>201.0</td>\n",
              "      <td>0.0</td>\n",
              "      <td>8.0</td>\n",
              "      <td>37152.0</td>\n",
              "      <td>Giant is a movie of huge scale and grandeur in...</td>\n",
              "      <td>https://www.themoviedb.org/t/p/original/alRcXV...</td>\n",
              "    </tr>\n",
              "    <tr>\n",
              "      <th>480</th>\n",
              "      <td>Ride the High Country</td>\n",
              "      <td>1962.0</td>\n",
              "      <td>Drama,Western</td>\n",
              "      <td>Sam Peckinpah</td>\n",
              "      <td>94.0</td>\n",
              "      <td>0.0</td>\n",
              "      <td>8.0</td>\n",
              "      <td>12845.0</td>\n",
              "      <td>An ex-lawman is hired to transport gold from a...</td>\n",
              "      <td>https://www.themoviedb.org/t/p/original/oBdJli...</td>\n",
              "    </tr>\n",
              "    <tr>\n",
              "      <th>5426</th>\n",
              "      <td>First Cow</td>\n",
              "      <td>2019.0</td>\n",
              "      <td>Drama,Western</td>\n",
              "      <td>Kelly Reichardt</td>\n",
              "      <td>122.0</td>\n",
              "      <td>0.0</td>\n",
              "      <td>7.0</td>\n",
              "      <td>15004.0</td>\n",
              "      <td>A taciturn loner and skilled cook has traveled...</td>\n",
              "      <td>https://www.themoviedb.org/t/p/original/yS41cr...</td>\n",
              "    </tr>\n",
              "    <tr>\n",
              "      <th>1788</th>\n",
              "      <td>Pulp Fiction</td>\n",
              "      <td>1994.0</td>\n",
              "      <td>Crime,Drama</td>\n",
              "      <td>Quentin Tarantino</td>\n",
              "      <td>154.0</td>\n",
              "      <td>0.0</td>\n",
              "      <td>9.0</td>\n",
              "      <td>1915188.0</td>\n",
              "      <td>A burger-loving hit man, his philosophical par...</td>\n",
              "      <td>https://www.themoviedb.org/t/p/original/d5iIlF...</td>\n",
              "    </tr>\n",
              "    <tr>\n",
              "      <th>5174</th>\n",
              "      <td>The Rider</td>\n",
              "      <td>2017.0</td>\n",
              "      <td>Drama,Western</td>\n",
              "      <td>Chloé Zhao</td>\n",
              "      <td>104.0</td>\n",
              "      <td>0.0</td>\n",
              "      <td>8.0</td>\n",
              "      <td>17443.0</td>\n",
              "      <td>Once a rising star of the rodeo circuit, and a...</td>\n",
              "      <td>https://www.themoviedb.org/t/p/original/cFsrA0...</td>\n",
              "    </tr>\n",
              "    <tr>\n",
              "      <th>602</th>\n",
              "      <td>Hang 'Em High</td>\n",
              "      <td>1968.0</td>\n",
              "      <td>Drama,Western</td>\n",
              "      <td>Ted Post</td>\n",
              "      <td>114.0</td>\n",
              "      <td>0.0</td>\n",
              "      <td>7.0</td>\n",
              "      <td>37333.0</td>\n",
              "      <td>Marshall Jed Cooper survives a hanging, vowing...</td>\n",
              "      <td>https://www.themoviedb.org/t/p/original/gFvRKg...</td>\n",
              "    </tr>\n",
              "  </tbody>\n",
              "</table>\n",
              "</div>"
            ],
            "text/plain": [
              "                      title  ...                                         poster_url\n",
              "4264       Django Unchained  ...  https://www.themoviedb.org/t/p/original/7oWY8V...\n",
              "292           Johnny Guitar  ...  https://www.themoviedb.org/t/p/original/slMEKs...\n",
              "1215             Pale Rider  ...  https://www.themoviedb.org/t/p/original/yUqCtt...\n",
              "497                     Hud  ...  https://www.themoviedb.org/t/p/original/54HnZL...\n",
              "334                   Giant  ...  https://www.themoviedb.org/t/p/original/alRcXV...\n",
              "480   Ride the High Country  ...  https://www.themoviedb.org/t/p/original/oBdJli...\n",
              "5426              First Cow  ...  https://www.themoviedb.org/t/p/original/yS41cr...\n",
              "1788           Pulp Fiction  ...  https://www.themoviedb.org/t/p/original/d5iIlF...\n",
              "5174              The Rider  ...  https://www.themoviedb.org/t/p/original/cFsrA0...\n",
              "602           Hang 'Em High  ...  https://www.themoviedb.org/t/p/original/gFvRKg...\n",
              "\n",
              "[10 rows x 10 columns]"
            ]
          },
          "metadata": {},
          "execution_count": 36
        }
      ]
    },
    {
      "cell_type": "code",
      "metadata": {
        "colab": {
          "base_uri": "https://localhost:8080/"
        },
        "id": "rf3445k0UyIP",
        "outputId": "95cd7d7b-c6e2-4418-8a79-fddd20dbbc7b"
      },
      "source": [
        "results[1][0,:]"
      ],
      "execution_count": null,
      "outputs": [
        {
          "output_type": "execute_result",
          "data": {
            "text/plain": [
              "array([4264,  292, 1215,  497,  334,  480, 5426, 1788, 5174,  602])"
            ]
          },
          "metadata": {},
          "execution_count": 38
        }
      ]
    },
    {
      "cell_type": "code",
      "metadata": {
        "id": "WSXHHIBM5cFK",
        "colab": {
          "base_uri": "https://localhost:8080/"
        },
        "outputId": "511fa987-236c-4a34-fe46-5a96a6aa362f"
      },
      "source": [
        "[i for i in results[1][0,:]]"
      ],
      "execution_count": null,
      "outputs": [
        {
          "output_type": "execute_result",
          "data": {
            "text/plain": [
              "[4264, 292, 1215, 497, 334, 480, 5426, 1788, 5174, 602]"
            ]
          },
          "metadata": {},
          "execution_count": 40
        }
      ]
    },
    {
      "cell_type": "markdown",
      "metadata": {
        "id": "9c2D9kB5gfi7"
      },
      "source": [
        ""
      ]
    }
  ]
}