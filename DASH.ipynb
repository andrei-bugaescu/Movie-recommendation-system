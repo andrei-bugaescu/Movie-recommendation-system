{
  "nbformat": 4,
  "nbformat_minor": 0,
  "metadata": {
    "accelerator": "TPU",
    "colab": {
      "name": "DASH.ipynb",
      "provenance": [],
      "collapsed_sections": [],
      "machine_shape": "hm"
    },
    "kernelspec": {
      "display_name": "Python 3",
      "name": "python3"
    },
    "language_info": {
      "name": "python"
    }
  },
  "cells": [
    {
      "cell_type": "code",
      "metadata": {
        "colab": {
          "base_uri": "https://localhost:8080/"
        },
        "id": "xE5tYzvl5Kdu",
        "outputId": "f1982d33-392c-4767-cd9a-0324f0ab9b66"
      },
      "source": [
        "from google.colab import drive\n",
        "drive.mount('/content/drive')"
      ],
      "execution_count": null,
      "outputs": [
        {
          "output_type": "stream",
          "name": "stdout",
          "text": [
            "Drive already mounted at /content/drive; to attempt to forcibly remount, call drive.mount(\"/content/drive\", force_remount=True).\n"
          ]
        }
      ]
    },
    {
      "cell_type": "code",
      "metadata": {
        "id": "_Z-cV7b6QhLO",
        "colab": {
          "base_uri": "https://localhost:8080/"
        },
        "outputId": "24a641a1-4c5d-4d05-838c-916808e2e834"
      },
      "source": [
        "#Initilisation / upload of librairies\n",
        "!pip install import_ipynb\n",
        "!pip install panda\n",
        "import os\n",
        "import import_ipynb\n",
        "import pandas as pd\n",
        "import numpy as np\n",
        "from datetime import datetime\n",
        "#Libraries for plot\n",
        "import seaborn as sns\n",
        "import plotly.express as px\n",
        "import plotly.graph_objects as go\n",
        "import matplotlib.pyplot as plt\n",
        "from plotly.subplots import make_subplots\n",
        "\n",
        "class style():\n",
        "  BLACK = '\\033[30m'\n",
        "  RED = '\\033[31m'\n",
        "  GREEN = '\\033[32m'\n",
        "  YELLOW = '\\033[33m'\n",
        "  BLUE = '\\033[34m'\n",
        "  MAGENTA = '\\033[35m'\n",
        "  CYAN = '\\033[36m'\n",
        "  WHITE = '\\033[37m'\n",
        "  UNDERLINE = '\\033[4m'\n",
        "  RESET = '\\033[0m'\n",
        "%cd '/content/drive/MyDrive/Wild Code School/Kung Fu Pandas/Modules/'\n",
        "from data_formatting import *"
      ],
      "execution_count": null,
      "outputs": [
        {
          "output_type": "stream",
          "name": "stdout",
          "text": [
            "Requirement already satisfied: import_ipynb in /usr/local/lib/python3.7/dist-packages (0.1.3)\n",
            "Requirement already satisfied: panda in /usr/local/lib/python3.7/dist-packages (0.3.1)\n",
            "Requirement already satisfied: setuptools in /usr/local/lib/python3.7/dist-packages (from panda) (57.4.0)\n",
            "Requirement already satisfied: requests in /usr/local/lib/python3.7/dist-packages (from panda) (2.23.0)\n",
            "Requirement already satisfied: urllib3!=1.25.0,!=1.25.1,<1.26,>=1.21.1 in /usr/local/lib/python3.7/dist-packages (from requests->panda) (1.24.3)\n",
            "Requirement already satisfied: idna<3,>=2.5 in /usr/local/lib/python3.7/dist-packages (from requests->panda) (2.10)\n",
            "Requirement already satisfied: chardet<4,>=3.0.2 in /usr/local/lib/python3.7/dist-packages (from requests->panda) (3.0.4)\n",
            "Requirement already satisfied: certifi>=2017.4.17 in /usr/local/lib/python3.7/dist-packages (from requests->panda) (2021.5.30)\n",
            "/content/drive/.shortcut-targets-by-id/1iYrLEW3yrtr1S1PEjB-TFMG9lQLdWpC1/Kung Fu Pandas/Modules\n"
          ]
        }
      ]
    },
    {
      "cell_type": "code",
      "metadata": {
        "id": "66h12kZNQqEj"
      },
      "source": [
        "#import data tables from 'movies data repertory'\n",
        "file_path = '/content/drive/MyDrive/Wild Code School/Kung Fu Pandas/Database/Movies data/'\n",
        "separator = \"\\t\"\n",
        "file_names = {'titl2_df':'title.basics.tsv.gz',\n",
        "              'titl1_df':'title.akas.tsv.gz',\n",
        "              'crew_df':'title.crew.tsv.gz',\n",
        "              'principals_df' :'title.principals.tsv.gz',\n",
        "              'rating_df':'title.ratings.tsv.gz',\n",
        "              'name_df':'name.basics.tsv.gz'}\n",
        "          \n",
        "df_dict = {'titl2_df':'','titl1_df':'','crew_df':'','principals_df':'','rating_df':'','name_df':''}\n",
        "columns_names = {'titl2_df':['titleID','titletype','primarytitle','originaltitle','isadult','startyear','endyear','runtimeminutes','genre'],\n",
        "                 'titl1_df':['titleID','ordering','title','region','country','language','types','attributes','isoriginaltitle'],\n",
        "                 'crew_df' :['titleID','directors','writers'],\n",
        "                 'principals_df':['titleID','ordering','nameID','category','job','characters'],\n",
        "                 'rating_df':['titleID','averagerating','numvotes'],\n",
        "                 'name_df':['nameID','name','birthyear','deathyear','primaryprofession','mainmovies']}\n",
        "\n",
        "for keys,values in df_dict.items():\n",
        "  df_dict.update({keys : import_database(file_path,file_names[keys],separator,columns_names[keys])})"
      ],
      "execution_count": null,
      "outputs": []
    },
    {
      "cell_type": "code",
      "metadata": {
        "colab": {
          "base_uri": "https://localhost:8080/",
          "height": 86
        },
        "id": "uHo3Kz7YR57s",
        "outputId": "6fbb7235-6d30-447b-ef66-d4e613f89fc7"
      },
      "source": [
        "\"\"\"\n",
        "#number of rows for each table\n",
        "print('number of title IDs for title 1 table : ', f\"{df_dict['titl1_df']['titleID'].count():,d}\")\n",
        "print('number of titles IDs for title 2 table : ', f\"{df_dict['titl2_df']['titleID'].count():,d}\")\n",
        "print('number of titles IDs for crew table : ', f\"{df_dict['crew_df']['titleID'].count():,d}\")\n",
        "print('number of titles IDs for principals table : ', f\"{df_dict['principals_df']['titleID'].count():,d}\")\n",
        "print('number of titles IDs for rating table : ', f\"{df_dict['rating_df']['titleID'].count():,d}\")\n",
        "print('number of names IDs for name table : ', f\"{df_dict['name_df']['nameID'].count():,d}\")\n",
        "\"\"\""
      ],
      "execution_count": null,
      "outputs": [
        {
          "output_type": "execute_result",
          "data": {
            "application/vnd.google.colaboratory.intrinsic+json": {
              "type": "string"
            },
            "text/plain": [
              "'\\n#number of rows for each table\\nprint(\\'number of title IDs for title 1 table : \\', f\"{df_dict[\\'titl1_df\\'][\\'titleID\\'].count():,d}\")\\nprint(\\'number of titles IDs for title 2 table : \\', f\"{df_dict[\\'titl2_df\\'][\\'titleID\\'].count():,d}\")\\nprint(\\'number of titles IDs for crew table : \\', f\"{df_dict[\\'crew_df\\'][\\'titleID\\'].count():,d}\")\\nprint(\\'number of titles IDs for principals table : \\', f\"{df_dict[\\'principals_df\\'][\\'titleID\\'].count():,d}\")\\nprint(\\'number of titles IDs for rating table : \\', f\"{df_dict[\\'rating_df\\'][\\'titleID\\'].count():,d}\")\\nprint(\\'number of names IDs for name table : \\', f\"{df_dict[\\'name_df\\'][\\'nameID\\'].count():,d}\")\\n'"
            ]
          },
          "metadata": {},
          "execution_count": 84
        }
      ]
    },
    {
      "cell_type": "code",
      "metadata": {
        "colab": {
          "base_uri": "https://localhost:8080/",
          "height": 103
        },
        "id": "E_7mBKfSSAnj",
        "outputId": "5379b467-cd71-4264-96bc-14deafa6b133"
      },
      "source": [
        "\"\"\"\n",
        "#Full analysis of the 'titl 2'\n",
        "#number of movies\n",
        "print(style.BLUE,'\\033[34m','\\nMOVIES',style.WHITE)\n",
        "print('number of movies in the database : ',df_dict['titl2_df']['titleID'].count())\n",
        "#startyear analysis\n",
        "print(style.BLUE,'\\nSTARTYEAR',style.WHITE)\n",
        "print('max startyear : ',round(df_dict['titl2_df']['startyear'].max()))\n",
        "print('min startyear : ',round(df_dict['titl2_df']['startyear'].min()))\n",
        "print('median startyear : ',round(df_dict['titl2_df']['startyear'].median()))\n",
        "print('mean startyear : ',round(df_dict['titl2_df']['startyear'].mean()))\n",
        "print('nb titles whose startyear > 2021 : ', df_dict['titl2_df'][df_dict['titl2_df']['startyear'] > 2021].count()['titleID'])\n",
        "#Movies duration\n",
        "print(style.BLUE,'\\nMOVIE DURATION',style.WHITE)\n",
        "print('Mean duration (min):', round(df_dict['titl2_df']['runtimeminutes'].mean()))\n",
        "print('Median of duration movies (min):', round(df_dict['titl2_df']['runtimeminutes'].median()))\n",
        "print('Minimum of duration movies (min):', round(df_dict['titl2_df']['runtimeminutes'].min()))\n",
        "print('Maximum of duration movies (min):', round(df_dict['titl2_df']['runtimeminutes'].max()))\n",
        "#Genre of Movies\n",
        "print(style.BLUE,'\\nCATEGORIES',style.WHITE)\n",
        "print('nb title for each category :')\n",
        "print(df_dict['titl2_df']['genre'].value_counts(),'\\n')\n",
        "print('nb title for 1st 10  categories')\n",
        "print(df_dict['titl2_df']['genre'].value_counts().head(10))\n",
        "\"\"\""
      ],
      "execution_count": null,
      "outputs": [
        {
          "output_type": "execute_result",
          "data": {
            "application/vnd.google.colaboratory.intrinsic+json": {
              "type": "string"
            },
            "text/plain": [
              "\"\\n#Full analysis of the 'titl 2'\\n#number of movies\\nprint(style.BLUE,'\\x1b[34m','\\nMOVIES',style.WHITE)\\nprint('number of movies in the database : ',df_dict['titl2_df']['titleID'].count())\\n#startyear analysis\\nprint(style.BLUE,'\\nSTARTYEAR',style.WHITE)\\nprint('max startyear : ',round(df_dict['titl2_df']['startyear'].max()))\\nprint('min startyear : ',round(df_dict['titl2_df']['startyear'].min()))\\nprint('median startyear : ',round(df_dict['titl2_df']['startyear'].median()))\\nprint('mean startyear : ',round(df_dict['titl2_df']['startyear'].mean()))\\nprint('nb titles whose startyear > 2021 : ', df_dict['titl2_df'][df_dict['titl2_df']['startyear'] > 2021].count()['titleID'])\\n#Movies duration\\nprint(style.BLUE,'\\nMOVIE DURATION',style.WHITE)\\nprint('Mean duration (min):', round(df_dict['titl2_df']['runtimeminutes'].mean()))\\nprint('Median of duration movies (min):', round(df_dict['titl2_df']['runtimeminutes'].median()))\\nprint('Minimum of duration movies (min):', round(df_dict['titl2_df']['runtimeminutes'].min()))\\nprint('Maximum of duration movies (min):', round(df_dict['titl2_df']['runtimeminutes'].max()))\\n#Genre of Movies\\nprint(style.BLUE,'\\nCATEGORIES',style.WHITE)\\nprint('nb title for each category :')\\nprint(df_dict['titl2_df']['genre'].value_counts(),'\\n')\\nprint('nb title for 1st 10  categories')\\nprint(df_dict['titl2_df']['genre'].value_counts().head(10))\\n\""
            ]
          },
          "metadata": {},
          "execution_count": 85
        }
      ]
    },
    {
      "cell_type": "code",
      "metadata": {
        "id": "VAjsK9z3UNTI"
      },
      "source": [
        "############################################\n",
        "#Merging data - Creation of new data frames\n",
        "############################################\n",
        "\n",
        "#merge titl1 & titl2 for analyzing countries production over the years\n",
        "df_dict.update({'titlmerge_df': pd.merge(df_dict['titl1_df'],df_dict['titl2_df'],how='inner',on='titleID')})\n",
        "df_movies_per_year = df_dict['titlmerge_df'].groupby(['startyear','country'],as_index=False)['titleID'].count()\n",
        "\n",
        "#merging 'name', 'principal' and titl2 dataframe for analysing top actors // movies\n",
        "df_dict.update({'df_name_titl' : pd.merge(df_dict['name_df'],df_dict['principals_df'],how='inner',on='nameID')})\n",
        "df_dict['df_name_titl'] = pd.merge(df_dict['titl2_df'],df_dict['df_name_titl'],how='inner',on='titleID')\n",
        "df_dict['df_name_titl']['startyear'] = pd.to_datetime(df_dict['df_name_titl']['startyear'],format='%Y').dt.year #Conversion to datetime\n",
        "df_dict['df_name_titl']['decade'] = (df_dict['df_name_titl']['startyear']//10)*10 #Creation of column 'decade'\n",
        "df_dict['df_name_titl']['age'] = df_dict['df_name_titl']['startyear'] - df_dict['df_name_titl']['birthyear'] #Creation of colum 'age' (age of the actor when the movie was produced)\n",
        "\n",
        "#selection of top x actors for each decades\n",
        "#Creation of the dataframe name titl with a group by decades for actors & actresses\n",
        "list_jobs = ['actor','actress']\n",
        "df_actors_per_decade = df_dict['df_name_titl'][df_dict['df_name_titl']['primaryprofession'].isin(list_jobs)] #Apply filter on 'actor' and 'actress' primaryprofession\n",
        "df_actors_per_decade = df_actors_per_decade.groupby(['decade','name','primaryprofession'],as_index=False)['nameID'].count()\n",
        "df_actors_per_decade = df_actors_per_decade.rename(columns={'nameID': 'nb_appearances'})\n",
        "\n",
        "data = []\n",
        "topx = 1\n",
        "decades = [dec for dec in range(df_actors_per_decade['decade'].min(),df_actors_per_decade['decade'].max()+10,10)]\n",
        "for dec in decades:\n",
        "  df = df_actors_per_decade[df_actors_per_decade['decade'] == dec].nlargest(topx,'nb_appearances')\n",
        "  for i in range(len(df)):\n",
        "    name = df.iloc[i]['name']\n",
        "    primaryprofession = df.iloc[i]['primaryprofession']\n",
        "    nb_appearances = df.iloc[i]['nb_appearances']\n",
        "    data.append([dec,name,primaryprofession,nb_appearances])\n",
        "top_actors_df = pd.DataFrame(data,columns=['decades','name','primaryprofession','nb_appearances'])"
      ],
      "execution_count": null,
      "outputs": []
    },
    {
      "cell_type": "code",
      "metadata": {
        "id": "N97ERGAMdzCW",
        "colab": {
          "base_uri": "https://localhost:8080/"
        },
        "outputId": "dad6c7bb-0043-4f32-fd2a-87b565b50811"
      },
      "source": [
        "\n",
        "######################################\n",
        "#ANALYZE DATA / STATISTICAL PART\n",
        "######################################\n",
        "\n",
        "#Analyzing Runtimeminutes data\n",
        "print(style.BLUE,'\\033[34m','\\nRUNTIMEMINUTE',style.WHITE)\n",
        "for i in (0.25, 0.5, 0.75):\n",
        "  print('Quantile ',i,' : ',df_dict['titl2_df']['runtimeminutes'].quantile(q=i))\n",
        "IQR = df_dict['titl2_df']['runtimeminutes'].quantile(q=0.75) - df_dict['titl2_df']['runtimeminutes'].quantile(q=0.25)\n",
        "Outliers_Min_limit_runtimeminutes = df_dict['titl2_df']['runtimeminutes'].quantile(q=0.25) - 1.5 * IQR\n",
        "Outliers_Max_limit_runtimeminutes = df_dict['titl2_df']['runtimeminutes'].quantile(q=0.75) + 1.5 * IQR\n",
        "print('Minimum : ',Outliers_Min_limit_runtimeminutes)\n",
        "print('Maximum : ',Outliers_Max_limit_runtimeminutes)\n",
        "print('nb titles whose runtime < ',Outliers_Min_limit_runtimeminutes,' : ', df_dict['titl2_df'][df_dict['titl2_df']['runtimeminutes'] < Outliers_Min_limit_runtimeminutes].count()['titleID'])\n",
        "print('nb titles whose runtime > ',Outliers_Max_limit_runtimeminutes,' : ', df_dict['titl2_df'][df_dict['titl2_df']['runtimeminutes'] > Outliers_Max_limit_runtimeminutes ].count()['titleID'])\n",
        "\n",
        "#Analyzing startyear data\n",
        "print(style.BLUE,'\\033[34m','\\nSTARTYEAR',style.WHITE)\n",
        "for i in (0.25, 0.5, 0.75):\n",
        "  print('Quantile ',i,' : ',df_dict['titl2_df']['startyear'].quantile(q=i))\n",
        "IQR = df_dict['titl2_df']['startyear'].quantile(q=0.75) - df_dict['titl2_df']['startyear'].quantile(q=0.25)\n",
        "Outliers_Min_limit_startyear = df_dict['titl2_df']['startyear'].quantile(q=0.25) - 1.5 * IQR\n",
        "Outliers_Max_limit_startyear = df_dict['titl2_df']['startyear'].quantile(q=0.75) + 1.5 * IQR\n",
        "print('Minimum : ',Outliers_Min_limit_startyear)\n",
        "print('Maximum : ',Outliers_Max_limit_startyear)\n",
        "print('nb titles whose startyear < ',Outliers_Min_limit_startyear,' : ', df_dict['titl2_df'][df_dict['titl2_df']['startyear'] < Outliers_Min_limit_startyear].count()['titleID'])\n",
        "print('nb titles whose startyear > ',Outliers_Max_limit_startyear,' : ', df_dict['titl2_df'][df_dict['titl2_df']['startyear'] > Outliers_Max_limit_startyear ].count()['titleID'])\n",
        "\n",
        "#Analyzing movie production per country\n",
        "print(style.BLUE,'\\033[34m','\\nMOVIE PRODUCTION PER COUNTRY',style.WHITE)\n",
        "mask = df_dict['titl1_df']['country'] != 'unknown'\n",
        "new_table = df_dict['titl1_df'][mask].groupby(\"country\")['titleID'].count()\n",
        "print('number of countries :', len(df_dict['titl1_df']['country'].unique()))\n",
        "print('max number of movies produced by a country :', new_table.max())\n",
        "print('mean number of movies produced by country :', int(new_table.mean()))\n",
        "print('median number of movies produced by country :', int(new_table.median()))\n",
        "mask = df_dict['titl1_df']['country'] != 'unknown'\n",
        "print('top 10 countries producing movies : ', df_dict['titl1_df'][mask].groupby('country')['titleID'].count().nlargest(10))\n"
      ],
      "execution_count": null,
      "outputs": [
        {
          "output_type": "stream",
          "name": "stdout",
          "text": [
            "\u001b[34m \u001b[34m \n",
            "RUNTIMEMINUTE \u001b[37m\n",
            "Quantile  0.25  :  74.0\n",
            "Quantile  0.5  :  89.0\n",
            "Quantile  0.75  :  100.0\n",
            "Minimum :  35.0\n",
            "Maximum :  139.0\n",
            "nb titles whose runtime <  35.0  :  233\n",
            "nb titles whose runtime >  139.0  :  14511\n",
            "\u001b[34m \u001b[34m \n",
            "STARTYEAR \u001b[37m\n",
            "Quantile  0.25  :  1971.0\n",
            "Quantile  0.5  :  2001.0\n",
            "Quantile  0.75  :  2014.0\n",
            "Minimum :  1906.5\n",
            "Maximum :  2078.5\n",
            "nb titles whose startyear <  1906.5  :  80\n",
            "nb titles whose startyear >  2078.5  :  0\n",
            "\u001b[34m \u001b[34m \n",
            "MOVIE PRODUCTION PER COUNTRY \u001b[37m\n",
            "number of countries : 212\n",
            "max number of movies produced by a country : 247129\n",
            "mean number of movies produced by country : 8321\n",
            "median number of movies produced by country : 93\n",
            "top 10 countries producing movies :  country\n",
            "United States     247129\n",
            "United Kingdom    142311\n",
            "Japan              89119\n",
            "France             80898\n",
            "India              72233\n",
            "Canada             68632\n",
            "Germany            66625\n",
            "Italy              63089\n",
            "Brazil             62711\n",
            "Spain              62119\n",
            "Name: titleID, dtype: int64\n"
          ]
        }
      ]
    },
    {
      "cell_type": "code",
      "metadata": {
        "id": "V5ezMQIXiLow"
      },
      "source": [
        "####################################################\n",
        "#MASK CREATION\n",
        "####################################################\n",
        "\n",
        "#Creation Runtimeminutes's mask to suppress outliers\n",
        "runtime_mask = (df_dict['titl2_df']['runtimeminutes'] > Outliers_Min_limit_runtimeminutes) & (df_dict['titl2_df']['runtimeminutes'] < Outliers_Max_limit_runtimeminutes )\n",
        "#Creation of startyear's mask to suppress outliers (last condition because there is not enough data berfore 1920 to be coherent.)\n",
        "startyear_mask = (df_dict['titl2_df']['startyear'] > Outliers_Min_limit_startyear) & (df_dict['titl2_df']['startyear'] < Outliers_Max_limit_startyear ) & (df_dict['titl2_df']['startyear'] > 1920)\n",
        "#Creation of movie production per country mask to get only top10 countries\n",
        "top10_countries_mask1 = (df_dict['titl1_df']['country'] != 'unknown') & ((df_dict['titl1_df']['country'] == 'United States') | (df_dict['titl1_df']['country'] == 'United Kingdom') | (df_dict['titl1_df']['country'] == 'France') | (df_dict['titl1_df']['country'] == 'Germany') | (df_dict['titl1_df']['country'] == 'Italy') | (df_dict['titl1_df']['country'] == 'Brazil') | (df_dict['titl1_df']['country'] == 'Spain') | (df_dict['titl1_df']['country'] == 'Japan')  | (df_dict['titl1_df']['country'] == 'India') | (df_dict['titl1_df']['country'] == 'Canada'))\n",
        "#Creation of movie production per country per year mask to get only top10 countries\n",
        "top10_countries_mask2 = (df_movies_per_year['country'] != 'unknown') & ((df_movies_per_year['country'] == 'United States') | (df_movies_per_year['country'] == 'United Kingdom') | (df_movies_per_year['country'] == 'France') | (df_movies_per_year['country'] == 'Germany') | (df_movies_per_year['country'] == 'Italy') | (df_movies_per_year['country'] == 'Brazil') | (df_movies_per_year['country'] == 'Spain') | (df_movies_per_year['country'] == 'Japan')  | (df_movies_per_year['country'] == 'India') | (df_movies_per_year['country'] == 'Canada'))\n",
        "#Creation 10 top genre mask\n",
        "mask = df_dict['titl2_df']['genre'].value_counts()\n",
        "top10_genre_mask = df_dict['titl2_df']['genre'].isin((mask.index[0:10]))\n",
        "#Creation age mask (suppression of nan)\n",
        "mask_age_not_nan = ~df_dict['df_name_titl']['age'].isna()\n",
        "#Creation actors mask\n",
        "mask_actor = df_dict['df_name_titl']['primaryprofession'] == 'actor'\n",
        "#Creation actresses mask\n",
        "mask_actress = df_dict['df_name_titl']['primaryprofession'] == 'actress'"
      ],
      "execution_count": null,
      "outputs": []
    },
    {
      "cell_type": "code",
      "metadata": {
        "id": "a3lPzad-pVOW"
      },
      "source": [
        "#############################################\n",
        "#PLOTS SECTION - PLOTLY GRAPH OBJECTS\n",
        "############################################# "
      ],
      "execution_count": null,
      "outputs": []
    },
    {
      "cell_type": "code",
      "metadata": {
        "id": "2A1CLD4jDanl"
      },
      "source": [
        "fig1 = go.Figure()\n",
        "fig1.add_trace(go.Histogram(x=df_dict['titl2_df']['startyear'],marker = {'color' : 'Steelblue'},))\n",
        "#Layout update\n",
        "fig1.update_layout(\n",
        "    title=\"Number of movies for top 10 genres\",\n",
        "    xaxis_title=\"Year\",\n",
        "    yaxis_title=\"Number of movies\",\n",
        "    yaxis = dict(tickfont = dict(size=10)),\n",
        "    bargap=0.1,\n",
        "    autosize=False,\n",
        "    width=1000,\n",
        "    height=500,)\n",
        "fig1.update_xaxes(\n",
        "        tickangle = -45,\n",
        "        title_font = {\"size\": 15},\n",
        "        dtick = 10)\n",
        "fig1.update_yaxes(\n",
        "        title_font = {\"size\": 15})\n",
        "fig1.show()"
      ],
      "execution_count": null,
      "outputs": []
    },
    {
      "cell_type": "code",
      "metadata": {
        "id": "ealETuhUH0AK"
      },
      "source": [
        "fig2 = go.Figure()\n",
        "fig2.add_trace(go.Histogram(x=df_dict['titl1_df']['country'][top10_countries_mask1],marker = {'color' : 'Steelblue'}))\n",
        "#Layout update\n",
        "fig2.update_layout(\n",
        "    title=\"Overall Movies production for top10 countries\",\n",
        "    xaxis_title=\"Country\",\n",
        "    yaxis_title=\"Number of movies\",\n",
        "    yaxis = dict(tickfont = dict(size=10)),\n",
        "    bargap=0.1,autosize=False,\n",
        "    width=1000,\n",
        "    height=500,)\n",
        "fig2.update_xaxes(\n",
        "        tickangle = -45,\n",
        "        title_font = {\"size\": 15})\n",
        "fig2.update_yaxes(\n",
        "        title_font = {\"size\": 15})\n",
        "fig2.show()"
      ],
      "execution_count": null,
      "outputs": []
    },
    {
      "cell_type": "code",
      "metadata": {
        "colab": {
          "base_uri": "https://localhost:8080/",
          "height": 653
        },
        "id": "z3TbBW3wIlFc",
        "outputId": "8c857cc0-086e-4dcf-ef8f-b387dc94544e"
      },
      "source": [
        "fig3 = go.Figure()\n",
        "x= df_dict['titl2_df'][runtime_mask][startyear_mask].groupby('startyear', as_index=False)['runtimeminutes'].mean()['startyear']\n",
        "y= df_dict['titl2_df'][runtime_mask][startyear_mask].groupby('startyear', as_index=False)['runtimeminutes'].mean()['runtimeminutes']\n",
        "fig3.add_trace(go.Scatter(x=x,y=y,marker = {'color' : 'Steelblue'}))\n",
        "#Layout update\n",
        "fig3.update_layout(\n",
        "    title=\"Movies average runtime over the years\",\n",
        "    xaxis_title=\"Year\",\n",
        "    yaxis_title=\"Runtime [min]\",\n",
        "    yaxis = dict(tickfont = dict(size=10)),\n",
        "    bargap=0.1,autosize=False,\n",
        "    width=1000,\n",
        "    height=500)\n",
        "fig3.update_xaxes(\n",
        "        tickangle = -45,\n",
        "        title_font = {\"size\": 15})\n",
        "fig3.update_yaxes(\n",
        "        title_font = {\"size\": 15})\n",
        "fig3.show()\n"
      ],
      "execution_count": null,
      "outputs": [
        {
          "output_type": "stream",
          "name": "stderr",
          "text": [
            "/usr/local/lib/python3.7/dist-packages/ipykernel_launcher.py:2: UserWarning:\n",
            "\n",
            "Boolean Series key will be reindexed to match DataFrame index.\n",
            "\n",
            "/usr/local/lib/python3.7/dist-packages/ipykernel_launcher.py:3: UserWarning:\n",
            "\n",
            "Boolean Series key will be reindexed to match DataFrame index.\n",
            "\n"
          ]
        },
        {
          "output_type": "display_data",
          "data": {
            "text/html": [
              "<html>\n",
              "<head><meta charset=\"utf-8\" /></head>\n",
              "<body>\n",
              "    <div>\n",
              "            <script src=\"https://cdnjs.cloudflare.com/ajax/libs/mathjax/2.7.5/MathJax.js?config=TeX-AMS-MML_SVG\"></script><script type=\"text/javascript\">if (window.MathJax) {MathJax.Hub.Config({SVG: {font: \"STIX-Web\"}});}</script>\n",
              "                <script type=\"text/javascript\">window.PlotlyConfig = {MathJaxConfig: 'local'};</script>\n",
              "        <script src=\"https://cdn.plot.ly/plotly-latest.min.js\"></script>    \n",
              "            <div id=\"239f8f70-bc8b-4ca0-9482-48d7d12f43e4\" class=\"plotly-graph-div\" style=\"height:500px; width:1000px;\"></div>\n",
              "            <script type=\"text/javascript\">\n",
              "                \n",
              "                    window.PLOTLYENV=window.PLOTLYENV || {};\n",
              "                    \n",
              "                if (document.getElementById(\"239f8f70-bc8b-4ca0-9482-48d7d12f43e4\")) {\n",
              "                    Plotly.newPlot(\n",
              "                        '239f8f70-bc8b-4ca0-9482-48d7d12f43e4',\n",
              "                        [{\"marker\": {\"color\": \"Steelblue\"}, \"type\": \"scatter\", \"x\": [1921.0, 1922.0, 1923.0, 1924.0, 1925.0, 1926.0, 1927.0, 1928.0, 1929.0, 1930.0, 1931.0, 1932.0, 1933.0, 1934.0, 1935.0, 1936.0, 1937.0, 1938.0, 1939.0, 1940.0, 1941.0, 1942.0, 1943.0, 1944.0, 1945.0, 1946.0, 1947.0, 1948.0, 1949.0, 1950.0, 1951.0, 1952.0, 1953.0, 1954.0, 1955.0, 1956.0, 1957.0, 1958.0, 1959.0, 1960.0, 1961.0, 1962.0, 1963.0, 1964.0, 1965.0, 1966.0, 1967.0, 1968.0, 1969.0, 1970.0, 1971.0, 1972.0, 1973.0, 1974.0, 1975.0, 1976.0, 1977.0, 1978.0, 1979.0, 1980.0, 1981.0, 1982.0, 1983.0, 1984.0, 1985.0, 1986.0, 1987.0, 1988.0, 1989.0, 1990.0, 1991.0, 1992.0, 1993.0, 1994.0, 1995.0, 1996.0, 1997.0, 1998.0, 1999.0, 2000.0, 2001.0, 2002.0, 2003.0, 2004.0, 2005.0, 2006.0, 2007.0, 2008.0, 2009.0, 2010.0, 2011.0, 2012.0, 2013.0, 2014.0, 2015.0, 2016.0, 2017.0, 2018.0, 2019.0, 2020.0, 2021.0], \"y\": [62.17457305502846, 64.51503759398496, 69.6420233463035, 68.91187050359713, 69.86265432098766, 70.68065967016491, 70.05233380480905, 71.28496042216359, 75.65669515669515, 77.46082949308756, 77.81494986326345, 75.8201754385965, 76.1087941976428, 77.22536418166239, 76.68523002421307, 77.74079528718704, 78.39180445722502, 79.60639880952381, 80.85249801744646, 80.42365771812081, 82.04128440366972, 82.20848056537102, 82.73154981549816, 83.02031602708804, 83.21588089330025, 83.35313531353135, 85.37688442211055, 84.39226519337016, 86.46371976647205, 87.2484756097561, 87.35127055306428, 88.11293941660433, 88.6274647887324, 89.54616477272727, 90.53052917232021, 89.71337172104927, 88.55747468731387, 89.15736342042756, 89.37905092592592, 89.93196112064037, 89.44518642181413, 90.39469320066335, 91.54004711425206, 91.0976, 90.08941877794337, 89.61931527848748, 89.815313225058, 89.56643640796425, 88.47672105053721, 87.4915773353752, 87.06173298624024, 87.43835112256166, 86.83853211009175, 87.6390243902439, 86.48066498012288, 87.13150289017341, 87.42485875706215, 87.44989106753813, 87.9536354056902, 88.40582877959928, 87.9457061745919, 88.23504120386959, 87.73125641903458, 87.63738892686261, 88.22313203684749, 88.14411366711772, 89.11284434118818, 88.48617886178862, 88.87066450567261, 88.32534471437951, 88.52804232804233, 88.78725741486635, 88.53255813953488, 88.17745974955277, 87.41473538567969, 88.13984806629834, 87.65745501285348, 87.210102262163, 87.5646668676515, 87.01988950276242, 86.92745047594546, 86.7796076531848, 86.19871368374362, 85.78636363636363, 85.76966095770709, 85.98333333333333, 85.84402720283856, 85.4114011855215, 85.00856954515491, 83.96296672077922, 84.4068379333397, 84.24547551454933, 84.78491386519485, 85.0077519379845, 85.56698397956815, 86.08670520231213, 86.71108334558284, 87.66669157761004, 88.38862742072371, 86.48973889584738, 88.57875288683603]}],\n",
              "                        {\"autosize\": false, \"bargap\": 0.1, \"height\": 500, \"template\": {\"data\": {\"bar\": [{\"error_x\": {\"color\": \"#2a3f5f\"}, \"error_y\": {\"color\": \"#2a3f5f\"}, \"marker\": {\"line\": {\"color\": \"#E5ECF6\", \"width\": 0.5}}, \"type\": \"bar\"}], \"barpolar\": [{\"marker\": {\"line\": {\"color\": \"#E5ECF6\", \"width\": 0.5}}, \"type\": \"barpolar\"}], \"carpet\": [{\"aaxis\": {\"endlinecolor\": \"#2a3f5f\", \"gridcolor\": \"white\", \"linecolor\": \"white\", \"minorgridcolor\": \"white\", \"startlinecolor\": \"#2a3f5f\"}, \"baxis\": {\"endlinecolor\": \"#2a3f5f\", \"gridcolor\": \"white\", \"linecolor\": \"white\", \"minorgridcolor\": \"white\", \"startlinecolor\": \"#2a3f5f\"}, \"type\": \"carpet\"}], \"choropleth\": [{\"colorbar\": {\"outlinewidth\": 0, \"ticks\": \"\"}, \"type\": \"choropleth\"}], \"contour\": [{\"colorbar\": {\"outlinewidth\": 0, \"ticks\": \"\"}, \"colorscale\": [[0.0, \"#0d0887\"], [0.1111111111111111, \"#46039f\"], [0.2222222222222222, \"#7201a8\"], [0.3333333333333333, \"#9c179e\"], [0.4444444444444444, \"#bd3786\"], [0.5555555555555556, \"#d8576b\"], [0.6666666666666666, \"#ed7953\"], [0.7777777777777778, \"#fb9f3a\"], [0.8888888888888888, \"#fdca26\"], [1.0, \"#f0f921\"]], \"type\": \"contour\"}], \"contourcarpet\": [{\"colorbar\": {\"outlinewidth\": 0, \"ticks\": \"\"}, \"type\": \"contourcarpet\"}], \"heatmap\": [{\"colorbar\": {\"outlinewidth\": 0, \"ticks\": \"\"}, \"colorscale\": [[0.0, \"#0d0887\"], [0.1111111111111111, \"#46039f\"], [0.2222222222222222, \"#7201a8\"], [0.3333333333333333, \"#9c179e\"], [0.4444444444444444, \"#bd3786\"], [0.5555555555555556, \"#d8576b\"], [0.6666666666666666, \"#ed7953\"], [0.7777777777777778, \"#fb9f3a\"], [0.8888888888888888, \"#fdca26\"], [1.0, \"#f0f921\"]], \"type\": \"heatmap\"}], \"heatmapgl\": [{\"colorbar\": {\"outlinewidth\": 0, \"ticks\": \"\"}, \"colorscale\": [[0.0, \"#0d0887\"], [0.1111111111111111, \"#46039f\"], [0.2222222222222222, \"#7201a8\"], [0.3333333333333333, \"#9c179e\"], [0.4444444444444444, \"#bd3786\"], [0.5555555555555556, \"#d8576b\"], [0.6666666666666666, \"#ed7953\"], [0.7777777777777778, \"#fb9f3a\"], [0.8888888888888888, \"#fdca26\"], [1.0, \"#f0f921\"]], \"type\": \"heatmapgl\"}], \"histogram\": [{\"marker\": {\"colorbar\": {\"outlinewidth\": 0, \"ticks\": \"\"}}, \"type\": \"histogram\"}], \"histogram2d\": [{\"colorbar\": {\"outlinewidth\": 0, \"ticks\": \"\"}, \"colorscale\": [[0.0, \"#0d0887\"], [0.1111111111111111, \"#46039f\"], [0.2222222222222222, \"#7201a8\"], [0.3333333333333333, \"#9c179e\"], [0.4444444444444444, \"#bd3786\"], [0.5555555555555556, \"#d8576b\"], [0.6666666666666666, \"#ed7953\"], [0.7777777777777778, \"#fb9f3a\"], [0.8888888888888888, \"#fdca26\"], [1.0, \"#f0f921\"]], \"type\": \"histogram2d\"}], \"histogram2dcontour\": [{\"colorbar\": {\"outlinewidth\": 0, \"ticks\": \"\"}, \"colorscale\": [[0.0, \"#0d0887\"], [0.1111111111111111, \"#46039f\"], [0.2222222222222222, \"#7201a8\"], [0.3333333333333333, \"#9c179e\"], [0.4444444444444444, \"#bd3786\"], [0.5555555555555556, \"#d8576b\"], [0.6666666666666666, \"#ed7953\"], [0.7777777777777778, \"#fb9f3a\"], [0.8888888888888888, \"#fdca26\"], [1.0, \"#f0f921\"]], \"type\": \"histogram2dcontour\"}], \"mesh3d\": [{\"colorbar\": {\"outlinewidth\": 0, \"ticks\": \"\"}, \"type\": \"mesh3d\"}], \"parcoords\": [{\"line\": {\"colorbar\": {\"outlinewidth\": 0, \"ticks\": \"\"}}, \"type\": \"parcoords\"}], \"pie\": [{\"automargin\": true, \"type\": \"pie\"}], \"scatter\": [{\"marker\": {\"colorbar\": {\"outlinewidth\": 0, \"ticks\": \"\"}}, \"type\": \"scatter\"}], \"scatter3d\": [{\"line\": {\"colorbar\": {\"outlinewidth\": 0, \"ticks\": \"\"}}, \"marker\": {\"colorbar\": {\"outlinewidth\": 0, \"ticks\": \"\"}}, \"type\": \"scatter3d\"}], \"scattercarpet\": [{\"marker\": {\"colorbar\": {\"outlinewidth\": 0, \"ticks\": \"\"}}, \"type\": \"scattercarpet\"}], \"scattergeo\": [{\"marker\": {\"colorbar\": {\"outlinewidth\": 0, \"ticks\": \"\"}}, \"type\": \"scattergeo\"}], \"scattergl\": [{\"marker\": {\"colorbar\": {\"outlinewidth\": 0, \"ticks\": \"\"}}, \"type\": \"scattergl\"}], \"scattermapbox\": [{\"marker\": {\"colorbar\": {\"outlinewidth\": 0, \"ticks\": \"\"}}, \"type\": \"scattermapbox\"}], \"scatterpolar\": [{\"marker\": {\"colorbar\": {\"outlinewidth\": 0, \"ticks\": \"\"}}, \"type\": \"scatterpolar\"}], \"scatterpolargl\": [{\"marker\": {\"colorbar\": {\"outlinewidth\": 0, \"ticks\": \"\"}}, \"type\": \"scatterpolargl\"}], \"scatterternary\": [{\"marker\": {\"colorbar\": {\"outlinewidth\": 0, \"ticks\": \"\"}}, \"type\": \"scatterternary\"}], \"surface\": [{\"colorbar\": {\"outlinewidth\": 0, \"ticks\": \"\"}, \"colorscale\": [[0.0, \"#0d0887\"], [0.1111111111111111, \"#46039f\"], [0.2222222222222222, \"#7201a8\"], [0.3333333333333333, \"#9c179e\"], [0.4444444444444444, \"#bd3786\"], [0.5555555555555556, \"#d8576b\"], [0.6666666666666666, \"#ed7953\"], [0.7777777777777778, \"#fb9f3a\"], [0.8888888888888888, \"#fdca26\"], [1.0, \"#f0f921\"]], \"type\": \"surface\"}], \"table\": [{\"cells\": {\"fill\": {\"color\": \"#EBF0F8\"}, \"line\": {\"color\": \"white\"}}, \"header\": {\"fill\": {\"color\": \"#C8D4E3\"}, \"line\": {\"color\": \"white\"}}, \"type\": \"table\"}]}, \"layout\": {\"annotationdefaults\": {\"arrowcolor\": \"#2a3f5f\", \"arrowhead\": 0, \"arrowwidth\": 1}, \"coloraxis\": {\"colorbar\": {\"outlinewidth\": 0, \"ticks\": \"\"}}, \"colorscale\": {\"diverging\": [[0, \"#8e0152\"], [0.1, \"#c51b7d\"], [0.2, \"#de77ae\"], [0.3, \"#f1b6da\"], [0.4, \"#fde0ef\"], [0.5, \"#f7f7f7\"], [0.6, \"#e6f5d0\"], [0.7, \"#b8e186\"], [0.8, \"#7fbc41\"], [0.9, \"#4d9221\"], [1, \"#276419\"]], \"sequential\": [[0.0, \"#0d0887\"], [0.1111111111111111, \"#46039f\"], [0.2222222222222222, \"#7201a8\"], [0.3333333333333333, \"#9c179e\"], [0.4444444444444444, \"#bd3786\"], [0.5555555555555556, \"#d8576b\"], [0.6666666666666666, \"#ed7953\"], [0.7777777777777778, \"#fb9f3a\"], [0.8888888888888888, \"#fdca26\"], [1.0, \"#f0f921\"]], \"sequentialminus\": [[0.0, \"#0d0887\"], [0.1111111111111111, \"#46039f\"], [0.2222222222222222, \"#7201a8\"], [0.3333333333333333, \"#9c179e\"], [0.4444444444444444, \"#bd3786\"], [0.5555555555555556, \"#d8576b\"], [0.6666666666666666, \"#ed7953\"], [0.7777777777777778, \"#fb9f3a\"], [0.8888888888888888, \"#fdca26\"], [1.0, \"#f0f921\"]]}, \"colorway\": [\"#636efa\", \"#EF553B\", \"#00cc96\", \"#ab63fa\", \"#FFA15A\", \"#19d3f3\", \"#FF6692\", \"#B6E880\", \"#FF97FF\", \"#FECB52\"], \"font\": {\"color\": \"#2a3f5f\"}, \"geo\": {\"bgcolor\": \"white\", \"lakecolor\": \"white\", \"landcolor\": \"#E5ECF6\", \"showlakes\": true, \"showland\": true, \"subunitcolor\": \"white\"}, \"hoverlabel\": {\"align\": \"left\"}, \"hovermode\": \"closest\", \"mapbox\": {\"style\": \"light\"}, \"paper_bgcolor\": \"white\", \"plot_bgcolor\": \"#E5ECF6\", \"polar\": {\"angularaxis\": {\"gridcolor\": \"white\", \"linecolor\": \"white\", \"ticks\": \"\"}, \"bgcolor\": \"#E5ECF6\", \"radialaxis\": {\"gridcolor\": \"white\", \"linecolor\": \"white\", \"ticks\": \"\"}}, \"scene\": {\"xaxis\": {\"backgroundcolor\": \"#E5ECF6\", \"gridcolor\": \"white\", \"gridwidth\": 2, \"linecolor\": \"white\", \"showbackground\": true, \"ticks\": \"\", \"zerolinecolor\": \"white\"}, \"yaxis\": {\"backgroundcolor\": \"#E5ECF6\", \"gridcolor\": \"white\", \"gridwidth\": 2, \"linecolor\": \"white\", \"showbackground\": true, \"ticks\": \"\", \"zerolinecolor\": \"white\"}, \"zaxis\": {\"backgroundcolor\": \"#E5ECF6\", \"gridcolor\": \"white\", \"gridwidth\": 2, \"linecolor\": \"white\", \"showbackground\": true, \"ticks\": \"\", \"zerolinecolor\": \"white\"}}, \"shapedefaults\": {\"line\": {\"color\": \"#2a3f5f\"}}, \"ternary\": {\"aaxis\": {\"gridcolor\": \"white\", \"linecolor\": \"white\", \"ticks\": \"\"}, \"baxis\": {\"gridcolor\": \"white\", \"linecolor\": \"white\", \"ticks\": \"\"}, \"bgcolor\": \"#E5ECF6\", \"caxis\": {\"gridcolor\": \"white\", \"linecolor\": \"white\", \"ticks\": \"\"}}, \"title\": {\"x\": 0.05}, \"xaxis\": {\"automargin\": true, \"gridcolor\": \"white\", \"linecolor\": \"white\", \"ticks\": \"\", \"title\": {\"standoff\": 15}, \"zerolinecolor\": \"white\", \"zerolinewidth\": 2}, \"yaxis\": {\"automargin\": true, \"gridcolor\": \"white\", \"linecolor\": \"white\", \"ticks\": \"\", \"title\": {\"standoff\": 15}, \"zerolinecolor\": \"white\", \"zerolinewidth\": 2}}}, \"title\": {\"text\": \"Movies average runtime over the years\"}, \"width\": 1000, \"xaxis\": {\"tickangle\": -45, \"title\": {\"font\": {\"size\": 15}, \"text\": \"Year\"}}, \"yaxis\": {\"tickfont\": {\"size\": 10}, \"title\": {\"font\": {\"size\": 15}, \"text\": \"Runtime [min]\"}}},\n",
              "                        {\"responsive\": true}\n",
              "                    ).then(function(){\n",
              "                            \n",
              "var gd = document.getElementById('239f8f70-bc8b-4ca0-9482-48d7d12f43e4');\n",
              "var x = new MutationObserver(function (mutations, observer) {{\n",
              "        var display = window.getComputedStyle(gd).display;\n",
              "        if (!display || display === 'none') {{\n",
              "            console.log([gd, 'removed!']);\n",
              "            Plotly.purge(gd);\n",
              "            observer.disconnect();\n",
              "        }}\n",
              "}});\n",
              "\n",
              "// Listen for the removal of the full notebook cells\n",
              "var notebookContainer = gd.closest('#notebook-container');\n",
              "if (notebookContainer) {{\n",
              "    x.observe(notebookContainer, {childList: true});\n",
              "}}\n",
              "\n",
              "// Listen for the clearing of the current output cell\n",
              "var outputEl = gd.closest('.output');\n",
              "if (outputEl) {{\n",
              "    x.observe(outputEl, {childList: true});\n",
              "}}\n",
              "\n",
              "                        })\n",
              "                };\n",
              "                \n",
              "            </script>\n",
              "        </div>\n",
              "</body>\n",
              "</html>"
            ]
          },
          "metadata": {}
        }
      ]
    },
    {
      "cell_type": "code",
      "metadata": {
        "colab": {
          "base_uri": "https://localhost:8080/",
          "height": 653
        },
        "id": "oHgdNZ6JJ2gY",
        "outputId": "9b095796-c973-4252-9c4c-a4bcf70be295"
      },
      "source": [
        "fig4 = go.Figure()\n",
        "for country in df_movies_per_year[top10_countries_mask2].groupby(['country'],as_index=False).count()['country']:\n",
        "  mask = df_movies_per_year['country'] == country\n",
        "  x = df_movies_per_year[top10_countries_mask2][mask]['startyear']\n",
        "  y = df_movies_per_year[top10_countries_mask2][mask]['titleID']\n",
        "  fig4.add_trace(go.Scatter(x=x,y=y,name=country))\n",
        "\n",
        "#Layout update\n",
        "fig4.update_layout(\n",
        "    title=\"Movies production over the years\",\n",
        "    xaxis_title=\"Year\",\n",
        "    yaxis_title=\"Number of movies\",\n",
        "    yaxis = dict(tickfont = dict(size=10)),\n",
        "    bargap=0.1,autosize=False,\n",
        "    width=1000,\n",
        "    height=500)\n",
        "fig4.update_xaxes(\n",
        "        tickangle = -45,\n",
        "        title_font = {\"size\": 15})\n",
        "fig4.update_yaxes(\n",
        "        title_font = {\"size\": 15})\n",
        "fig4.show()"
      ],
      "execution_count": null,
      "outputs": [
        {
          "output_type": "stream",
          "name": "stderr",
          "text": [
            "/usr/local/lib/python3.7/dist-packages/ipykernel_launcher.py:4: UserWarning:\n",
            "\n",
            "Boolean Series key will be reindexed to match DataFrame index.\n",
            "\n",
            "/usr/local/lib/python3.7/dist-packages/ipykernel_launcher.py:5: UserWarning:\n",
            "\n",
            "Boolean Series key will be reindexed to match DataFrame index.\n",
            "\n"
          ]
        },
        {
          "output_type": "display_data",
          "data": {
            "text/html": [
              "<html>\n",
              "<head><meta charset=\"utf-8\" /></head>\n",
              "<body>\n",
              "    <div>\n",
              "            <script src=\"https://cdnjs.cloudflare.com/ajax/libs/mathjax/2.7.5/MathJax.js?config=TeX-AMS-MML_SVG\"></script><script type=\"text/javascript\">if (window.MathJax) {MathJax.Hub.Config({SVG: {font: \"STIX-Web\"}});}</script>\n",
              "                <script type=\"text/javascript\">window.PlotlyConfig = {MathJaxConfig: 'local'};</script>\n",
              "        <script src=\"https://cdn.plot.ly/plotly-latest.min.js\"></script>    \n",
              "            <div id=\"4254d1d1-4309-4f39-9f6a-8ad1faede188\" class=\"plotly-graph-div\" style=\"height:500px; width:1000px;\"></div>\n",
              "            <script type=\"text/javascript\">\n",
              "                \n",
              "                    window.PLOTLYENV=window.PLOTLYENV || {};\n",
              "                    \n",
              "                if (document.getElementById(\"4254d1d1-4309-4f39-9f6a-8ad1faede188\")) {\n",
              "                    Plotly.newPlot(\n",
              "                        '4254d1d1-4309-4f39-9f6a-8ad1faede188',\n",
              "                        [{\"name\": \"Brazil\", \"type\": \"scatter\", \"x\": [1909.0, 1910.0, 1911.0, 1912.0, 1913.0, 1914.0, 1915.0, 1916.0, 1917.0, 1918.0, 1919.0, 1920.0, 1921.0, 1922.0, 1923.0, 1924.0, 1925.0, 1926.0, 1927.0, 1928.0, 1929.0, 1930.0, 1931.0, 1932.0, 1933.0, 1934.0, 1935.0, 1936.0, 1937.0, 1938.0, 1939.0, 1940.0, 1941.0, 1942.0, 1943.0, 1944.0, 1945.0, 1946.0, 1947.0, 1948.0, 1949.0, 1950.0, 1951.0, 1952.0, 1953.0, 1954.0, 1955.0, 1956.0, 1957.0, 1958.0, 1959.0, 1960.0, 1961.0, 1962.0, 1963.0, 1964.0, 1965.0, 1966.0, 1967.0, 1968.0, 1969.0, 1970.0, 1971.0, 1972.0, 1973.0, 1974.0, 1975.0, 1976.0, 1977.0, 1978.0, 1979.0, 1980.0, 1981.0, 1982.0, 1983.0, 1984.0, 1985.0, 1986.0, 1987.0, 1988.0, 1989.0, 1990.0, 1991.0, 1992.0, 1993.0, 1994.0, 1995.0, 1996.0, 1997.0, 1998.0, 1999.0, 2000.0, 2001.0, 2002.0, 2003.0, 2004.0, 2005.0, 2006.0, 2007.0, 2008.0, 2009.0, 2010.0, 2011.0, 2012.0, 2013.0, 2014.0, 2015.0, 2016.0, 2017.0, 2018.0, 2019.0, 2020.0, 2021.0], \"y\": [9, 14, 4, 6, 12, 23, 25, 30, 37, 41, 70, 76, 69, 94, 141, 234, 493, 607, 665, 666, 492, 430, 423, 432, 458, 520, 569, 569, 598, 550, 526, 462, 443, 459, 429, 423, 402, 494, 457, 484, 487, 532, 516, 537, 544, 512, 504, 473, 571, 538, 499, 496, 465, 439, 425, 460, 494, 526, 574, 607, 540, 555, 547, 532, 488, 446, 415, 474, 421, 440, 456, 462, 456, 480, 477, 534, 576, 587, 674, 716, 638, 565, 561, 513, 558, 577, 645, 584, 600, 622, 651, 711, 761, 730, 708, 775, 865, 947, 930, 901, 926, 948, 947, 1014, 1157, 1216, 1224, 1330, 1400, 1641, 1713, 1215, 727]}, {\"name\": \"Canada\", \"type\": \"scatter\", \"x\": [1906.0, 1912.0, 1913.0, 1914.0, 1915.0, 1916.0, 1917.0, 1918.0, 1919.0, 1920.0, 1921.0, 1922.0, 1923.0, 1924.0, 1925.0, 1926.0, 1927.0, 1928.0, 1929.0, 1930.0, 1931.0, 1932.0, 1933.0, 1934.0, 1935.0, 1936.0, 1937.0, 1938.0, 1939.0, 1940.0, 1941.0, 1942.0, 1943.0, 1944.0, 1945.0, 1946.0, 1947.0, 1948.0, 1949.0, 1950.0, 1951.0, 1952.0, 1953.0, 1954.0, 1955.0, 1956.0, 1957.0, 1958.0, 1959.0, 1960.0, 1961.0, 1962.0, 1963.0, 1964.0, 1965.0, 1966.0, 1967.0, 1968.0, 1969.0, 1970.0, 1971.0, 1972.0, 1973.0, 1974.0, 1975.0, 1976.0, 1977.0, 1978.0, 1979.0, 1980.0, 1981.0, 1982.0, 1983.0, 1984.0, 1985.0, 1986.0, 1987.0, 1988.0, 1989.0, 1990.0, 1991.0, 1992.0, 1993.0, 1994.0, 1995.0, 1996.0, 1997.0, 1998.0, 1999.0, 2000.0, 2001.0, 2002.0, 2003.0, 2004.0, 2005.0, 2006.0, 2007.0, 2008.0, 2009.0, 2010.0, 2011.0, 2012.0, 2013.0, 2014.0, 2015.0, 2016.0, 2017.0, 2018.0, 2019.0, 2020.0, 2021.0], \"y\": [1, 1, 8, 15, 8, 11, 14, 9, 16, 19, 17, 23, 23, 29, 36, 31, 42, 53, 113, 52, 59, 75, 76, 67, 97, 86, 87, 95, 129, 146, 146, 156, 131, 142, 133, 148, 171, 178, 231, 274, 305, 266, 336, 307, 330, 315, 328, 349, 315, 306, 299, 317, 295, 359, 348, 357, 365, 417, 354, 413, 438, 443, 460, 444, 428, 465, 426, 447, 447, 502, 512, 481, 495, 562, 574, 627, 605, 703, 666, 660, 631, 656, 655, 732, 793, 790, 850, 870, 874, 881, 914, 1005, 927, 1053, 1050, 1205, 1282, 1350, 1529, 1506, 1703, 1868, 2015, 2101, 2171, 2336, 2621, 3175, 4304, 3699, 2872]}, {\"name\": \"France\", \"type\": \"scatter\", \"x\": [1905.0, 1906.0, 1907.0, 1908.0, 1909.0, 1910.0, 1911.0, 1912.0, 1913.0, 1914.0, 1915.0, 1916.0, 1917.0, 1918.0, 1919.0, 1920.0, 1921.0, 1922.0, 1923.0, 1924.0, 1925.0, 1926.0, 1927.0, 1928.0, 1929.0, 1930.0, 1931.0, 1932.0, 1933.0, 1934.0, 1935.0, 1936.0, 1937.0, 1938.0, 1939.0, 1940.0, 1941.0, 1942.0, 1943.0, 1944.0, 1945.0, 1946.0, 1947.0, 1948.0, 1949.0, 1950.0, 1951.0, 1952.0, 1953.0, 1954.0, 1955.0, 1956.0, 1957.0, 1958.0, 1959.0, 1960.0, 1961.0, 1962.0, 1963.0, 1964.0, 1965.0, 1966.0, 1967.0, 1968.0, 1969.0, 1970.0, 1971.0, 1972.0, 1973.0, 1974.0, 1975.0, 1976.0, 1977.0, 1978.0, 1979.0, 1980.0, 1981.0, 1982.0, 1983.0, 1984.0, 1985.0, 1986.0, 1987.0, 1988.0, 1989.0, 1990.0, 1991.0, 1992.0, 1993.0, 1994.0, 1995.0, 1996.0, 1997.0, 1998.0, 1999.0, 2000.0, 2001.0, 2002.0, 2003.0, 2004.0, 2005.0, 2006.0, 2007.0, 2008.0, 2009.0, 2010.0, 2011.0, 2012.0, 2013.0, 2014.0, 2015.0, 2016.0, 2017.0, 2018.0, 2019.0, 2020.0, 2021.0], \"y\": [3, 1, 3, 5, 15, 17, 16, 60, 158, 153, 104, 209, 305, 353, 365, 341, 338, 336, 421, 395, 406, 364, 340, 375, 390, 289, 374, 470, 439, 426, 415, 459, 492, 463, 410, 313, 319, 320, 331, 252, 285, 347, 415, 414, 456, 522, 566, 553, 585, 567, 545, 502, 648, 550, 534, 557, 557, 577, 554, 623, 563, 601, 645, 696, 694, 682, 756, 843, 823, 772, 818, 887, 902, 908, 881, 901, 823, 762, 744, 765, 723, 717, 764, 710, 733, 635, 648, 635, 657, 668, 703, 712, 802, 858, 894, 936, 1038, 949, 929, 1059, 1084, 1200, 1208, 1313, 1386, 1415, 1519, 1558, 1644, 1794, 1783, 1984, 2150, 2284, 2549, 1878, 1311]}, {\"name\": \"Germany\", \"type\": \"scatter\", \"x\": [1899.0, 1903.0, 1905.0, 1906.0, 1907.0, 1908.0, 1909.0, 1910.0, 1911.0, 1912.0, 1913.0, 1914.0, 1915.0, 1916.0, 1917.0, 1918.0, 1919.0, 1920.0, 1921.0, 1922.0, 1923.0, 1924.0, 1925.0, 1926.0, 1927.0, 1928.0, 1929.0, 1930.0, 1931.0, 1932.0, 1933.0, 1934.0, 1935.0, 1936.0, 1937.0, 1938.0, 1939.0, 1940.0, 1941.0, 1942.0, 1943.0, 1944.0, 1945.0, 1946.0, 1947.0, 1948.0, 1949.0, 1950.0, 1951.0, 1952.0, 1953.0, 1954.0, 1955.0, 1956.0, 1957.0, 1958.0, 1959.0, 1960.0, 1961.0, 1962.0, 1963.0, 1964.0, 1965.0, 1966.0, 1967.0, 1968.0, 1969.0, 1970.0, 1971.0, 1972.0, 1973.0, 1974.0, 1975.0, 1976.0, 1977.0, 1978.0, 1979.0, 1980.0, 1981.0, 1982.0, 1983.0, 1984.0, 1985.0, 1986.0, 1987.0, 1988.0, 1989.0, 1990.0, 1991.0, 1992.0, 1993.0, 1994.0, 1995.0, 1996.0, 1997.0, 1998.0, 1999.0, 2000.0, 2001.0, 2002.0, 2003.0, 2004.0, 2005.0, 2006.0, 2007.0, 2008.0, 2009.0, 2010.0, 2011.0, 2012.0, 2013.0, 2014.0, 2015.0, 2016.0, 2017.0, 2018.0, 2019.0, 2020.0, 2021.0], \"y\": [1, 1, 1, 1, 1, 2, 10, 11, 38, 71, 214, 226, 247, 420, 408, 552, 792, 742, 594, 387, 286, 305, 375, 366, 512, 472, 405, 337, 364, 394, 371, 371, 349, 362, 319, 335, 333, 261, 226, 215, 202, 197, 161, 160, 181, 170, 111, 78, 77, 64, 90, 86, 85, 94, 96, 97, 112, 98, 102, 113, 108, 140, 145, 149, 152, 161, 157, 176, 221, 206, 213, 189, 161, 195, 185, 181, 205, 206, 218, 195, 195, 200, 240, 227, 248, 290, 358, 576, 847, 834, 845, 913, 962, 919, 1027, 976, 971, 996, 1046, 1012, 1051, 1122, 1185, 1359, 1463, 1545, 1713, 1622, 1708, 1777, 1827, 1989, 2037, 2145, 2377, 2509, 3025, 2834, 2041]}, {\"name\": \"India\", \"type\": \"scatter\", \"x\": [1910.0, 1911.0, 1912.0, 1913.0, 1914.0, 1915.0, 1916.0, 1917.0, 1918.0, 1919.0, 1920.0, 1921.0, 1922.0, 1923.0, 1924.0, 1925.0, 1926.0, 1927.0, 1928.0, 1929.0, 1930.0, 1931.0, 1932.0, 1933.0, 1934.0, 1935.0, 1936.0, 1937.0, 1938.0, 1939.0, 1940.0, 1941.0, 1942.0, 1943.0, 1944.0, 1945.0, 1946.0, 1947.0, 1948.0, 1949.0, 1950.0, 1951.0, 1952.0, 1953.0, 1954.0, 1955.0, 1956.0, 1957.0, 1958.0, 1959.0, 1960.0, 1961.0, 1962.0, 1963.0, 1964.0, 1965.0, 1966.0, 1967.0, 1968.0, 1969.0, 1970.0, 1971.0, 1972.0, 1973.0, 1974.0, 1975.0, 1976.0, 1977.0, 1978.0, 1979.0, 1980.0, 1981.0, 1982.0, 1983.0, 1984.0, 1985.0, 1986.0, 1987.0, 1988.0, 1989.0, 1990.0, 1991.0, 1992.0, 1993.0, 1994.0, 1995.0, 1996.0, 1997.0, 1998.0, 1999.0, 2000.0, 2001.0, 2002.0, 2003.0, 2004.0, 2005.0, 2006.0, 2007.0, 2008.0, 2009.0, 2010.0, 2011.0, 2012.0, 2013.0, 2014.0, 2015.0, 2016.0, 2017.0, 2018.0, 2019.0, 2020.0, 2021.0], \"y\": [1, 3, 12, 5, 2, 6, 4, 5, 8, 10, 27, 43, 75, 71, 86, 99, 111, 100, 130, 162, 213, 277, 170, 152, 165, 202, 210, 157, 159, 146, 163, 160, 148, 154, 158, 131, 192, 210, 231, 263, 249, 229, 234, 246, 288, 274, 306, 300, 299, 303, 325, 292, 317, 325, 324, 383, 654, 399, 413, 368, 393, 487, 439, 536, 514, 536, 508, 600, 689, 621, 697, 717, 756, 744, 819, 849, 797, 751, 749, 761, 812, 771, 787, 778, 680, 745, 678, 720, 727, 772, 814, 973, 1024, 1076, 1052, 1192, 1114, 1152, 1290, 1382, 1550, 1557, 1762, 1959, 1993, 2166, 2476, 2763, 3328, 3920, 2867, 3241]}, {\"name\": \"Italy\", \"type\": \"scatter\", \"x\": [1905.0, 1906.0, 1908.0, 1909.0, 1910.0, 1911.0, 1912.0, 1913.0, 1914.0, 1915.0, 1916.0, 1917.0, 1918.0, 1919.0, 1920.0, 1921.0, 1922.0, 1923.0, 1924.0, 1925.0, 1926.0, 1927.0, 1928.0, 1929.0, 1930.0, 1931.0, 1932.0, 1933.0, 1934.0, 1935.0, 1936.0, 1937.0, 1938.0, 1939.0, 1940.0, 1941.0, 1942.0, 1943.0, 1944.0, 1945.0, 1946.0, 1947.0, 1948.0, 1949.0, 1950.0, 1951.0, 1952.0, 1953.0, 1954.0, 1955.0, 1956.0, 1957.0, 1958.0, 1959.0, 1960.0, 1961.0, 1962.0, 1963.0, 1964.0, 1965.0, 1966.0, 1967.0, 1968.0, 1969.0, 1970.0, 1971.0, 1972.0, 1973.0, 1974.0, 1975.0, 1976.0, 1977.0, 1978.0, 1979.0, 1980.0, 1981.0, 1982.0, 1983.0, 1984.0, 1985.0, 1986.0, 1987.0, 1988.0, 1989.0, 1990.0, 1991.0, 1992.0, 1993.0, 1994.0, 1995.0, 1996.0, 1997.0, 1998.0, 1999.0, 2000.0, 2001.0, 2002.0, 2003.0, 2004.0, 2005.0, 2006.0, 2007.0, 2008.0, 2009.0, 2010.0, 2011.0, 2012.0, 2013.0, 2014.0, 2015.0, 2016.0, 2017.0, 2018.0, 2019.0, 2020.0, 2021.0], \"y\": [1, 1, 5, 6, 14, 14, 48, 135, 231, 382, 329, 258, 264, 338, 458, 403, 193, 165, 122, 95, 93, 115, 259, 276, 237, 228, 256, 289, 304, 332, 378, 370, 369, 408, 383, 344, 387, 309, 235, 269, 303, 339, 359, 398, 441, 469, 474, 531, 505, 534, 489, 565, 547, 523, 533, 522, 535, 535, 594, 543, 586, 610, 656, 671, 659, 683, 707, 742, 661, 627, 662, 598, 543, 555, 575, 502, 500, 512, 491, 504, 529, 674, 701, 672, 601, 592, 587, 589, 611, 600, 576, 642, 645, 636, 669, 648, 693, 664, 708, 718, 802, 846, 864, 906, 952, 949, 1094, 1111, 1205, 1319, 1400, 1548, 1717, 1982, 1492, 1061]}, {\"name\": \"Japan\", \"type\": \"scatter\", \"x\": [1905.0, 1908.0, 1909.0, 1910.0, 1911.0, 1912.0, 1913.0, 1914.0, 1915.0, 1916.0, 1917.0, 1918.0, 1919.0, 1920.0, 1921.0, 1922.0, 1923.0, 1924.0, 1925.0, 1926.0, 1927.0, 1928.0, 1929.0, 1930.0, 1931.0, 1932.0, 1933.0, 1934.0, 1935.0, 1936.0, 1937.0, 1938.0, 1939.0, 1940.0, 1941.0, 1942.0, 1943.0, 1944.0, 1945.0, 1946.0, 1947.0, 1948.0, 1949.0, 1950.0, 1951.0, 1952.0, 1953.0, 1954.0, 1955.0, 1956.0, 1957.0, 1958.0, 1959.0, 1960.0, 1961.0, 1962.0, 1963.0, 1964.0, 1965.0, 1966.0, 1967.0, 1968.0, 1969.0, 1970.0, 1971.0, 1972.0, 1973.0, 1974.0, 1975.0, 1976.0, 1977.0, 1978.0, 1979.0, 1980.0, 1981.0, 1982.0, 1983.0, 1984.0, 1985.0, 1986.0, 1987.0, 1988.0, 1989.0, 1990.0, 1991.0, 1992.0, 1993.0, 1994.0, 1995.0, 1996.0, 1997.0, 1998.0, 1999.0, 2000.0, 2001.0, 2002.0, 2003.0, 2004.0, 2005.0, 2006.0, 2007.0, 2008.0, 2009.0, 2010.0, 2011.0, 2012.0, 2013.0, 2014.0, 2015.0, 2016.0, 2017.0, 2018.0, 2019.0, 2020.0, 2021.0], \"y\": [1, 2, 5, 3, 3, 12, 9, 21, 33, 97, 214, 347, 457, 595, 691, 677, 786, 1006, 857, 778, 887, 882, 886, 756, 763, 683, 715, 644, 612, 631, 575, 450, 348, 328, 221, 169, 149, 158, 157, 178, 221, 308, 352, 354, 345, 381, 433, 481, 604, 662, 688, 722, 753, 782, 733, 643, 642, 702, 849, 910, 865, 922, 968, 806, 905, 938, 851, 670, 731, 723, 701, 707, 721, 697, 730, 693, 748, 879, 869, 945, 967, 994, 913, 932, 944, 910, 847, 910, 984, 980, 940, 974, 971, 1012, 1071, 1073, 1011, 1150, 1216, 1342, 1351, 1473, 1644, 1448, 1590, 1595, 1757, 1744, 1877, 2046, 2023, 1875, 1891, 1245, 999]}, {\"name\": \"Spain\", \"type\": \"scatter\", \"x\": [1905.0, 1906.0, 1907.0, 1908.0, 1909.0, 1910.0, 1911.0, 1912.0, 1913.0, 1914.0, 1915.0, 1916.0, 1917.0, 1918.0, 1919.0, 1920.0, 1921.0, 1922.0, 1923.0, 1924.0, 1925.0, 1926.0, 1927.0, 1928.0, 1929.0, 1930.0, 1931.0, 1932.0, 1933.0, 1934.0, 1935.0, 1936.0, 1937.0, 1938.0, 1939.0, 1940.0, 1941.0, 1942.0, 1943.0, 1944.0, 1945.0, 1946.0, 1947.0, 1948.0, 1949.0, 1950.0, 1951.0, 1952.0, 1953.0, 1954.0, 1955.0, 1956.0, 1957.0, 1958.0, 1959.0, 1960.0, 1961.0, 1962.0, 1963.0, 1964.0, 1965.0, 1966.0, 1967.0, 1968.0, 1969.0, 1970.0, 1971.0, 1972.0, 1973.0, 1974.0, 1975.0, 1976.0, 1977.0, 1978.0, 1979.0, 1980.0, 1981.0, 1982.0, 1983.0, 1984.0, 1985.0, 1986.0, 1987.0, 1988.0, 1989.0, 1990.0, 1991.0, 1992.0, 1993.0, 1994.0, 1995.0, 1996.0, 1997.0, 1998.0, 1999.0, 2000.0, 2001.0, 2002.0, 2003.0, 2004.0, 2005.0, 2006.0, 2007.0, 2008.0, 2009.0, 2010.0, 2011.0, 2012.0, 2013.0, 2014.0, 2015.0, 2016.0, 2017.0, 2018.0, 2019.0, 2020.0, 2021.0], \"y\": [1, 1, 4, 3, 14, 8, 9, 30, 87, 116, 71, 84, 77, 67, 70, 89, 88, 106, 178, 167, 242, 273, 336, 258, 224, 271, 310, 377, 392, 358, 417, 338, 275, 258, 310, 300, 279, 268, 267, 258, 240, 236, 273, 288, 289, 358, 330, 351, 374, 379, 490, 435, 419, 438, 426, 431, 404, 450, 436, 508, 535, 564, 576, 537, 560, 596, 618, 662, 668, 610, 605, 653, 651, 612, 645, 642, 636, 657, 580, 645, 638, 661, 799, 814, 733, 581, 613, 554, 602, 622, 670, 715, 780, 792, 713, 748, 780, 761, 667, 782, 802, 856, 900, 851, 932, 924, 1033, 1092, 1223, 1267, 1408, 1582, 1653, 1867, 1973, 1634, 1009]}, {\"name\": \"United Kingdom\", \"type\": \"scatter\", \"x\": [1896.0, 1899.0, 1902.0, 1906.0, 1907.0, 1908.0, 1909.0, 1910.0, 1911.0, 1912.0, 1913.0, 1914.0, 1915.0, 1916.0, 1917.0, 1918.0, 1919.0, 1920.0, 1921.0, 1922.0, 1923.0, 1924.0, 1925.0, 1926.0, 1927.0, 1928.0, 1929.0, 1930.0, 1931.0, 1932.0, 1933.0, 1934.0, 1935.0, 1936.0, 1937.0, 1938.0, 1939.0, 1940.0, 1941.0, 1942.0, 1943.0, 1944.0, 1945.0, 1946.0, 1947.0, 1948.0, 1949.0, 1950.0, 1951.0, 1952.0, 1953.0, 1954.0, 1955.0, 1956.0, 1957.0, 1958.0, 1959.0, 1960.0, 1961.0, 1962.0, 1963.0, 1964.0, 1965.0, 1966.0, 1967.0, 1968.0, 1969.0, 1970.0, 1971.0, 1972.0, 1973.0, 1974.0, 1975.0, 1976.0, 1977.0, 1978.0, 1979.0, 1980.0, 1981.0, 1982.0, 1983.0, 1984.0, 1985.0, 1986.0, 1987.0, 1988.0, 1989.0, 1990.0, 1991.0, 1992.0, 1993.0, 1994.0, 1995.0, 1996.0, 1997.0, 1998.0, 1999.0, 2000.0, 2001.0, 2002.0, 2003.0, 2004.0, 2005.0, 2006.0, 2007.0, 2008.0, 2009.0, 2010.0, 2011.0, 2012.0, 2013.0, 2014.0, 2015.0, 2016.0, 2017.0, 2018.0, 2019.0, 2020.0, 2021.0], \"y\": [1, 2, 2, 3, 1, 2, 7, 15, 20, 70, 101, 164, 255, 259, 252, 213, 330, 389, 640, 327, 241, 247, 345, 354, 345, 440, 401, 421, 499, 600, 603, 643, 616, 659, 657, 552, 515, 491, 490, 465, 389, 399, 364, 402, 435, 489, 511, 512, 538, 535, 595, 521, 555, 548, 590, 614, 608, 624, 605, 653, 631, 673, 708, 750, 761, 887, 900, 956, 934, 1019, 962, 877, 820, 874, 800, 792, 818, 820, 859, 785, 830, 842, 856, 870, 1011, 1081, 1039, 950, 991, 1078, 1070, 1157, 1152, 1227, 1302, 1335, 1367, 1416, 1455, 1458, 1528, 1680, 1940, 2103, 2279, 2618, 3221, 3635, 4428, 4823, 4958, 5339, 5543, 5741, 6143, 6483, 7040, 5847, 4725]}, {\"name\": \"United States\", \"type\": \"scatter\", \"x\": [1897.0, 1898.0, 1899.0, 1900.0, 1901.0, 1902.0, 1903.0, 1904.0, 1906.0, 1907.0, 1908.0, 1909.0, 1910.0, 1911.0, 1912.0, 1913.0, 1914.0, 1915.0, 1916.0, 1917.0, 1918.0, 1919.0, 1920.0, 1921.0, 1922.0, 1923.0, 1924.0, 1925.0, 1926.0, 1927.0, 1928.0, 1929.0, 1930.0, 1931.0, 1932.0, 1933.0, 1934.0, 1935.0, 1936.0, 1937.0, 1938.0, 1939.0, 1940.0, 1941.0, 1942.0, 1943.0, 1944.0, 1945.0, 1946.0, 1947.0, 1948.0, 1949.0, 1950.0, 1951.0, 1952.0, 1953.0, 1954.0, 1955.0, 1956.0, 1957.0, 1958.0, 1959.0, 1960.0, 1961.0, 1962.0, 1963.0, 1964.0, 1965.0, 1966.0, 1967.0, 1968.0, 1969.0, 1970.0, 1971.0, 1972.0, 1973.0, 1974.0, 1975.0, 1976.0, 1977.0, 1978.0, 1979.0, 1980.0, 1981.0, 1982.0, 1983.0, 1984.0, 1985.0, 1986.0, 1987.0, 1988.0, 1989.0, 1990.0, 1991.0, 1992.0, 1993.0, 1994.0, 1995.0, 1996.0, 1997.0, 1998.0, 1999.0, 2000.0, 2001.0, 2002.0, 2003.0, 2004.0, 2005.0, 2006.0, 2007.0, 2008.0, 2009.0, 2010.0, 2011.0, 2012.0, 2013.0, 2014.0, 2015.0, 2016.0, 2017.0, 2018.0, 2019.0, 2020.0, 2021.0], \"y\": [2, 4, 8, 8, 7, 3, 2, 1, 12, 4, 6, 16, 20, 39, 85, 228, 583, 847, 1181, 1264, 1144, 1102, 1095, 920, 858, 766, 850, 968, 903, 888, 941, 765, 898, 1007, 1056, 1050, 1112, 1169, 1199, 1189, 1084, 1093, 918, 920, 914, 804, 750, 730, 793, 763, 878, 840, 895, 876, 887, 909, 827, 848, 849, 992, 985, 923, 968, 936, 959, 969, 1108, 1131, 1170, 1231, 1480, 1574, 1863, 1922, 1952, 2033, 1762, 1778, 1832, 1640, 1542, 1551, 1400, 1448, 1431, 1497, 1573, 1648, 1538, 1735, 1848, 1890, 1865, 1550, 1644, 1668, 1787, 1897, 2023, 2325, 2536, 2570, 2491, 2676, 2800, 2795, 3143, 3550, 4040, 4430, 5183, 6255, 6634, 7355, 7782, 8132, 8350, 8406, 8847, 9326, 9465, 9477, 8710, 8330]}],\n",
              "                        {\"autosize\": false, \"bargap\": 0.1, \"height\": 500, \"template\": {\"data\": {\"bar\": [{\"error_x\": {\"color\": \"#2a3f5f\"}, \"error_y\": {\"color\": \"#2a3f5f\"}, \"marker\": {\"line\": {\"color\": \"#E5ECF6\", \"width\": 0.5}}, \"type\": \"bar\"}], \"barpolar\": [{\"marker\": {\"line\": {\"color\": \"#E5ECF6\", \"width\": 0.5}}, \"type\": \"barpolar\"}], \"carpet\": [{\"aaxis\": {\"endlinecolor\": \"#2a3f5f\", \"gridcolor\": \"white\", \"linecolor\": \"white\", \"minorgridcolor\": \"white\", \"startlinecolor\": \"#2a3f5f\"}, \"baxis\": {\"endlinecolor\": \"#2a3f5f\", \"gridcolor\": \"white\", \"linecolor\": \"white\", \"minorgridcolor\": \"white\", \"startlinecolor\": \"#2a3f5f\"}, \"type\": \"carpet\"}], \"choropleth\": [{\"colorbar\": {\"outlinewidth\": 0, \"ticks\": \"\"}, \"type\": \"choropleth\"}], \"contour\": [{\"colorbar\": {\"outlinewidth\": 0, \"ticks\": \"\"}, \"colorscale\": [[0.0, \"#0d0887\"], [0.1111111111111111, \"#46039f\"], [0.2222222222222222, \"#7201a8\"], [0.3333333333333333, \"#9c179e\"], [0.4444444444444444, \"#bd3786\"], [0.5555555555555556, \"#d8576b\"], [0.6666666666666666, \"#ed7953\"], [0.7777777777777778, \"#fb9f3a\"], [0.8888888888888888, \"#fdca26\"], [1.0, \"#f0f921\"]], \"type\": \"contour\"}], \"contourcarpet\": [{\"colorbar\": {\"outlinewidth\": 0, \"ticks\": \"\"}, \"type\": \"contourcarpet\"}], \"heatmap\": [{\"colorbar\": {\"outlinewidth\": 0, \"ticks\": \"\"}, \"colorscale\": [[0.0, \"#0d0887\"], [0.1111111111111111, \"#46039f\"], [0.2222222222222222, \"#7201a8\"], [0.3333333333333333, \"#9c179e\"], [0.4444444444444444, \"#bd3786\"], [0.5555555555555556, \"#d8576b\"], [0.6666666666666666, \"#ed7953\"], [0.7777777777777778, \"#fb9f3a\"], [0.8888888888888888, \"#fdca26\"], [1.0, \"#f0f921\"]], \"type\": \"heatmap\"}], \"heatmapgl\": [{\"colorbar\": {\"outlinewidth\": 0, \"ticks\": \"\"}, \"colorscale\": [[0.0, \"#0d0887\"], [0.1111111111111111, \"#46039f\"], [0.2222222222222222, \"#7201a8\"], [0.3333333333333333, \"#9c179e\"], [0.4444444444444444, \"#bd3786\"], [0.5555555555555556, \"#d8576b\"], [0.6666666666666666, \"#ed7953\"], [0.7777777777777778, \"#fb9f3a\"], [0.8888888888888888, \"#fdca26\"], [1.0, \"#f0f921\"]], \"type\": \"heatmapgl\"}], \"histogram\": [{\"marker\": {\"colorbar\": {\"outlinewidth\": 0, \"ticks\": \"\"}}, \"type\": \"histogram\"}], \"histogram2d\": [{\"colorbar\": {\"outlinewidth\": 0, \"ticks\": \"\"}, \"colorscale\": [[0.0, \"#0d0887\"], [0.1111111111111111, \"#46039f\"], [0.2222222222222222, \"#7201a8\"], [0.3333333333333333, \"#9c179e\"], [0.4444444444444444, \"#bd3786\"], [0.5555555555555556, \"#d8576b\"], [0.6666666666666666, \"#ed7953\"], [0.7777777777777778, \"#fb9f3a\"], [0.8888888888888888, \"#fdca26\"], [1.0, \"#f0f921\"]], \"type\": \"histogram2d\"}], \"histogram2dcontour\": [{\"colorbar\": {\"outlinewidth\": 0, \"ticks\": \"\"}, \"colorscale\": [[0.0, \"#0d0887\"], [0.1111111111111111, \"#46039f\"], [0.2222222222222222, \"#7201a8\"], [0.3333333333333333, \"#9c179e\"], [0.4444444444444444, \"#bd3786\"], [0.5555555555555556, \"#d8576b\"], [0.6666666666666666, \"#ed7953\"], [0.7777777777777778, \"#fb9f3a\"], [0.8888888888888888, \"#fdca26\"], [1.0, \"#f0f921\"]], \"type\": \"histogram2dcontour\"}], \"mesh3d\": [{\"colorbar\": {\"outlinewidth\": 0, \"ticks\": \"\"}, \"type\": \"mesh3d\"}], \"parcoords\": [{\"line\": {\"colorbar\": {\"outlinewidth\": 0, \"ticks\": \"\"}}, \"type\": \"parcoords\"}], \"pie\": [{\"automargin\": true, \"type\": \"pie\"}], \"scatter\": [{\"marker\": {\"colorbar\": {\"outlinewidth\": 0, \"ticks\": \"\"}}, \"type\": \"scatter\"}], \"scatter3d\": [{\"line\": {\"colorbar\": {\"outlinewidth\": 0, \"ticks\": \"\"}}, \"marker\": {\"colorbar\": {\"outlinewidth\": 0, \"ticks\": \"\"}}, \"type\": \"scatter3d\"}], \"scattercarpet\": [{\"marker\": {\"colorbar\": {\"outlinewidth\": 0, \"ticks\": \"\"}}, \"type\": \"scattercarpet\"}], \"scattergeo\": [{\"marker\": {\"colorbar\": {\"outlinewidth\": 0, \"ticks\": \"\"}}, \"type\": \"scattergeo\"}], \"scattergl\": [{\"marker\": {\"colorbar\": {\"outlinewidth\": 0, \"ticks\": \"\"}}, \"type\": \"scattergl\"}], \"scattermapbox\": [{\"marker\": {\"colorbar\": {\"outlinewidth\": 0, \"ticks\": \"\"}}, \"type\": \"scattermapbox\"}], \"scatterpolar\": [{\"marker\": {\"colorbar\": {\"outlinewidth\": 0, \"ticks\": \"\"}}, \"type\": \"scatterpolar\"}], \"scatterpolargl\": [{\"marker\": {\"colorbar\": {\"outlinewidth\": 0, \"ticks\": \"\"}}, \"type\": \"scatterpolargl\"}], \"scatterternary\": [{\"marker\": {\"colorbar\": {\"outlinewidth\": 0, \"ticks\": \"\"}}, \"type\": \"scatterternary\"}], \"surface\": [{\"colorbar\": {\"outlinewidth\": 0, \"ticks\": \"\"}, \"colorscale\": [[0.0, \"#0d0887\"], [0.1111111111111111, \"#46039f\"], [0.2222222222222222, \"#7201a8\"], [0.3333333333333333, \"#9c179e\"], [0.4444444444444444, \"#bd3786\"], [0.5555555555555556, \"#d8576b\"], [0.6666666666666666, \"#ed7953\"], [0.7777777777777778, \"#fb9f3a\"], [0.8888888888888888, \"#fdca26\"], [1.0, \"#f0f921\"]], \"type\": \"surface\"}], \"table\": [{\"cells\": {\"fill\": {\"color\": \"#EBF0F8\"}, \"line\": {\"color\": \"white\"}}, \"header\": {\"fill\": {\"color\": \"#C8D4E3\"}, \"line\": {\"color\": \"white\"}}, \"type\": \"table\"}]}, \"layout\": {\"annotationdefaults\": {\"arrowcolor\": \"#2a3f5f\", \"arrowhead\": 0, \"arrowwidth\": 1}, \"coloraxis\": {\"colorbar\": {\"outlinewidth\": 0, \"ticks\": \"\"}}, \"colorscale\": {\"diverging\": [[0, \"#8e0152\"], [0.1, \"#c51b7d\"], [0.2, \"#de77ae\"], [0.3, \"#f1b6da\"], [0.4, \"#fde0ef\"], [0.5, \"#f7f7f7\"], [0.6, \"#e6f5d0\"], [0.7, \"#b8e186\"], [0.8, \"#7fbc41\"], [0.9, \"#4d9221\"], [1, \"#276419\"]], \"sequential\": [[0.0, \"#0d0887\"], [0.1111111111111111, \"#46039f\"], [0.2222222222222222, \"#7201a8\"], [0.3333333333333333, \"#9c179e\"], [0.4444444444444444, \"#bd3786\"], [0.5555555555555556, \"#d8576b\"], [0.6666666666666666, \"#ed7953\"], [0.7777777777777778, \"#fb9f3a\"], [0.8888888888888888, \"#fdca26\"], [1.0, \"#f0f921\"]], \"sequentialminus\": [[0.0, \"#0d0887\"], [0.1111111111111111, \"#46039f\"], [0.2222222222222222, \"#7201a8\"], [0.3333333333333333, \"#9c179e\"], [0.4444444444444444, \"#bd3786\"], [0.5555555555555556, \"#d8576b\"], [0.6666666666666666, \"#ed7953\"], [0.7777777777777778, \"#fb9f3a\"], [0.8888888888888888, \"#fdca26\"], [1.0, \"#f0f921\"]]}, \"colorway\": [\"#636efa\", \"#EF553B\", \"#00cc96\", \"#ab63fa\", \"#FFA15A\", \"#19d3f3\", \"#FF6692\", \"#B6E880\", \"#FF97FF\", \"#FECB52\"], \"font\": {\"color\": \"#2a3f5f\"}, \"geo\": {\"bgcolor\": \"white\", \"lakecolor\": \"white\", \"landcolor\": \"#E5ECF6\", \"showlakes\": true, \"showland\": true, \"subunitcolor\": \"white\"}, \"hoverlabel\": {\"align\": \"left\"}, \"hovermode\": \"closest\", \"mapbox\": {\"style\": \"light\"}, \"paper_bgcolor\": \"white\", \"plot_bgcolor\": \"#E5ECF6\", \"polar\": {\"angularaxis\": {\"gridcolor\": \"white\", \"linecolor\": \"white\", \"ticks\": \"\"}, \"bgcolor\": \"#E5ECF6\", \"radialaxis\": {\"gridcolor\": \"white\", \"linecolor\": \"white\", \"ticks\": \"\"}}, \"scene\": {\"xaxis\": {\"backgroundcolor\": \"#E5ECF6\", \"gridcolor\": \"white\", \"gridwidth\": 2, \"linecolor\": \"white\", \"showbackground\": true, \"ticks\": \"\", \"zerolinecolor\": \"white\"}, \"yaxis\": {\"backgroundcolor\": \"#E5ECF6\", \"gridcolor\": \"white\", \"gridwidth\": 2, \"linecolor\": \"white\", \"showbackground\": true, \"ticks\": \"\", \"zerolinecolor\": \"white\"}, \"zaxis\": {\"backgroundcolor\": \"#E5ECF6\", \"gridcolor\": \"white\", \"gridwidth\": 2, \"linecolor\": \"white\", \"showbackground\": true, \"ticks\": \"\", \"zerolinecolor\": \"white\"}}, \"shapedefaults\": {\"line\": {\"color\": \"#2a3f5f\"}}, \"ternary\": {\"aaxis\": {\"gridcolor\": \"white\", \"linecolor\": \"white\", \"ticks\": \"\"}, \"baxis\": {\"gridcolor\": \"white\", \"linecolor\": \"white\", \"ticks\": \"\"}, \"bgcolor\": \"#E5ECF6\", \"caxis\": {\"gridcolor\": \"white\", \"linecolor\": \"white\", \"ticks\": \"\"}}, \"title\": {\"x\": 0.05}, \"xaxis\": {\"automargin\": true, \"gridcolor\": \"white\", \"linecolor\": \"white\", \"ticks\": \"\", \"title\": {\"standoff\": 15}, \"zerolinecolor\": \"white\", \"zerolinewidth\": 2}, \"yaxis\": {\"automargin\": true, \"gridcolor\": \"white\", \"linecolor\": \"white\", \"ticks\": \"\", \"title\": {\"standoff\": 15}, \"zerolinecolor\": \"white\", \"zerolinewidth\": 2}}}, \"title\": {\"text\": \"Movies production over the years\"}, \"width\": 1000, \"xaxis\": {\"tickangle\": -45, \"title\": {\"font\": {\"size\": 15}, \"text\": \"Year\"}}, \"yaxis\": {\"tickfont\": {\"size\": 10}, \"title\": {\"font\": {\"size\": 15}, \"text\": \"Number of movies\"}}},\n",
              "                        {\"responsive\": true}\n",
              "                    ).then(function(){\n",
              "                            \n",
              "var gd = document.getElementById('4254d1d1-4309-4f39-9f6a-8ad1faede188');\n",
              "var x = new MutationObserver(function (mutations, observer) {{\n",
              "        var display = window.getComputedStyle(gd).display;\n",
              "        if (!display || display === 'none') {{\n",
              "            console.log([gd, 'removed!']);\n",
              "            Plotly.purge(gd);\n",
              "            observer.disconnect();\n",
              "        }}\n",
              "}});\n",
              "\n",
              "// Listen for the removal of the full notebook cells\n",
              "var notebookContainer = gd.closest('#notebook-container');\n",
              "if (notebookContainer) {{\n",
              "    x.observe(notebookContainer, {childList: true});\n",
              "}}\n",
              "\n",
              "// Listen for the clearing of the current output cell\n",
              "var outputEl = gd.closest('.output');\n",
              "if (outputEl) {{\n",
              "    x.observe(outputEl, {childList: true});\n",
              "}}\n",
              "\n",
              "                        })\n",
              "                };\n",
              "                \n",
              "            </script>\n",
              "        </div>\n",
              "</body>\n",
              "</html>"
            ]
          },
          "metadata": {}
        }
      ]
    },
    {
      "cell_type": "code",
      "metadata": {
        "id": "roUsjuKzq6Cw"
      },
      "source": [
        "#Plots for Genre section\n",
        "#------------------------\n",
        "#data_frame=df_dict['titl2_df'][top10_genre_mask],x='genre',width=800, height=400\n",
        "fig2 = go.Figure()\n",
        "fig2.add_trace(go.Histogram(x=df_dict['titl2_df'][top10_genre_mask]['genre'],marker = {'color' : 'Steelblue'}))\n",
        "fig2.update_layout(\n",
        "    title=\"Number of movies for top 10 genres\",\n",
        "    xaxis_title=\"Genre\",\n",
        "    yaxis_title=\"Number of movies\",\n",
        "    yaxis = dict(tickfont = dict(size=10)))\n",
        "fig2.update_xaxes(\n",
        "        tickangle = -45,\n",
        "        title_font = {\"size\": 15})\n",
        "fig2.update_yaxes(\n",
        "        title_font = {\"size\": 15})\n",
        "fig2.show()"
      ],
      "execution_count": null,
      "outputs": []
    },
    {
      "cell_type": "code",
      "metadata": {
        "colab": {
          "base_uri": "https://localhost:8080/",
          "height": 814
        },
        "id": "SQ4-IrtfrAyw",
        "outputId": "4a349982-fdbd-448f-ffb0-bc1f03957a7e"
      },
      "source": [
        "#Plots for mean age of actors\n",
        "fig3 = go.Figure()\n",
        "x = df_dict['df_name_titl'][mask_age_not_nan][mask_actor].groupby('startyear', as_index=False)['age'].mean()['startyear']\n",
        "y = df_dict['df_name_titl'][mask_age_not_nan][mask_actor].groupby('startyear', as_index=False)['age'].mean()['age']\n",
        "fig3.add_trace(go.Scatter(x=x,y=y,marker = {'color' : 'Steelblue'},name='Actors'))\n",
        "x = df_dict['df_name_titl'][mask_age_not_nan][mask_actress].groupby('startyear', as_index=False)['age'].mean()['startyear']\n",
        "y = df_dict['df_name_titl'][mask_age_not_nan][mask_actress].groupby('startyear', as_index=False)['age'].mean()['age']\n",
        "fig3.add_trace(go.Scatter(x=x,y=y,marker = {'color' : 'pink'},name='Actresses'))\n",
        "\n",
        "fig3.update_layout(\n",
        "    title=\"Evolution of the average age of actors\",\n",
        "    xaxis_title=\"Production year\",\n",
        "    yaxis_title=\"Average actors age\",\n",
        "    yaxis = dict(tickfont = dict(size=12),dtick = 5),\n",
        "    xaxis = dict(tickfont = dict(size=12),dtick = 10))\n",
        "fig3.update_xaxes(\n",
        "        tickangle = -45,\n",
        "        title_font = {\"size\": 15})\n",
        "fig3.update_yaxes(\n",
        "        title_font = {\"size\": 15})\n",
        "fig3.show()"
      ],
      "execution_count": null,
      "outputs": [
        {
          "output_type": "stream",
          "name": "stderr",
          "text": [
            "/usr/local/lib/python3.7/dist-packages/ipykernel_launcher.py:3: UserWarning:\n",
            "\n",
            "Boolean Series key will be reindexed to match DataFrame index.\n",
            "\n",
            "/usr/local/lib/python3.7/dist-packages/ipykernel_launcher.py:4: UserWarning:\n",
            "\n",
            "Boolean Series key will be reindexed to match DataFrame index.\n",
            "\n",
            "/usr/local/lib/python3.7/dist-packages/ipykernel_launcher.py:6: UserWarning:\n",
            "\n",
            "Boolean Series key will be reindexed to match DataFrame index.\n",
            "\n",
            "/usr/local/lib/python3.7/dist-packages/ipykernel_launcher.py:7: UserWarning:\n",
            "\n",
            "Boolean Series key will be reindexed to match DataFrame index.\n",
            "\n"
          ]
        },
        {
          "output_type": "display_data",
          "data": {
            "text/html": [
              "<html>\n",
              "<head><meta charset=\"utf-8\" /></head>\n",
              "<body>\n",
              "    <div>\n",
              "            <script src=\"https://cdnjs.cloudflare.com/ajax/libs/mathjax/2.7.5/MathJax.js?config=TeX-AMS-MML_SVG\"></script><script type=\"text/javascript\">if (window.MathJax) {MathJax.Hub.Config({SVG: {font: \"STIX-Web\"}});}</script>\n",
              "                <script type=\"text/javascript\">window.PlotlyConfig = {MathJaxConfig: 'local'};</script>\n",
              "        <script src=\"https://cdn.plot.ly/plotly-latest.min.js\"></script>    \n",
              "            <div id=\"f939bffd-9829-4911-8ae4-398e1022018f\" class=\"plotly-graph-div\" style=\"height:525px; width:100%;\"></div>\n",
              "            <script type=\"text/javascript\">\n",
              "                \n",
              "                    window.PLOTLYENV=window.PLOTLYENV || {};\n",
              "                    \n",
              "                if (document.getElementById(\"f939bffd-9829-4911-8ae4-398e1022018f\")) {\n",
              "                    Plotly.newPlot(\n",
              "                        'f939bffd-9829-4911-8ae4-398e1022018f',\n",
              "                        [{\"marker\": {\"color\": \"Steelblue\"}, \"name\": \"Actors\", \"type\": \"scatter\", \"x\": [1899, 1901, 1902, 1906, 1907, 1908, 1909, 1910, 1911, 1912, 1913, 1914, 1915, 1916, 1917, 1918, 1919, 1920, 1921, 1922, 1923, 1924, 1925, 1926, 1927, 1928, 1929, 1930, 1931, 1932, 1933, 1934, 1935, 1936, 1937, 1938, 1939, 1940, 1941, 1942, 1943, 1944, 1945, 1946, 1947, 1948, 1949, 1950, 1951, 1952, 1953, 1954, 1955, 1956, 1957, 1958, 1959, 1960, 1961, 1962, 1963, 1964, 1965, 1966, 1967, 1968, 1969, 1970, 1971, 1972, 1973, 1974, 1975, 1976, 1977, 1978, 1979, 1980, 1981, 1982, 1983, 1984, 1985, 1986, 1987, 1988, 1989, 1990, 1991, 1992, 1993, 1994, 1995, 1996, 1997, 1998, 1999, 2000, 2001, 2002, 2003, 2004, 2005, 2006, 2007, 2008, 2009, 2010, 2011, 2012, 2013, 2014, 2015, 2016, 2017, 2018, 2019, 2020, 2021], \"y\": [25.0, 26.0, 27.0, 32.0, 35.0, 27.0, 27.041666666666668, 36.810810810810814, 36.46341463414634, 36.17972350230415, 37.28, 39.61165048543689, 41.407938257993386, 40.99697199091597, 40.44818652849741, 41.367182246133154, 41.8976760319112, 41.77149395227198, 40.864762560220235, 41.76190476190476, 40.77875673029858, 40.15989036089539, 39.01764705882353, 37.7562802996915, 38.54908407703147, 37.057662337662336, 36.71616766467066, 36.37291527685123, 36.72308649657747, 37.92202121023082, 37.63017186505411, 39.41815856777494, 38.31692515171949, 39.69330734243015, 39.37311557788945, 39.383270911360796, 38.93085880640466, 40.16006884681583, 40.39381443298969, 40.677319587628865, 41.90181430096051, 41.56366047745358, 41.033377837116156, 41.83018867924528, 40.955627705627705, 41.128909952606634, 41.08844621513944, 41.697408536585364, 40.583645911477866, 40.57573632538569, 40.87136086662153, 40.95505617977528, 40.76786805131338, 39.9959467284308, 40.077948717948715, 39.95247828308636, 39.44592592592593, 39.8997668997669, 39.917599641737574, 39.5513413506013, 39.60762548262548, 39.4054054054054, 39.52140410958904, 39.281502423263326, 39.50762066045724, 39.63552123552124, 39.381431334622825, 40.45444319460068, 40.6622691292876, 40.130065611732924, 40.475049115913556, 40.7972027972028, 40.85925629748101, 42.41173968524032, 41.600794000882225, 41.880824372759854, 41.988168094655244, 42.31078033378439, 42.63826940231936, 42.79844251030692, 42.923112338858196, 42.86112339672711, 43.08518518518518, 42.96568411790585, 43.363351254480285, 43.45391000436872, 43.55030416471689, 43.857002938295786, 43.9604462474645, 43.364274150026986, 43.752656434474616, 43.51021711366539, 42.827922077922075, 42.57533375715194, 42.841068022886205, 42.56631708821715, 42.214622641509436, 41.694368507381085, 42.13014055179594, 41.19716088328076, 42.40976645435244, 41.51219512195122, 41.43588560885609, 41.52881654201496, 41.416808873720136, 41.99123141441098, 42.392414296134206, 42.652092675635274, 43.22188564937524, 43.362198795180724, 43.44278792396571, 44.04198335142961, 44.29885444743935, 44.149632598530395, 44.2874877491016, 44.63014149391247, 45.97544951590595, 45.668143553389456, 47.38125262715427]}, {\"marker\": {\"color\": \"pink\"}, \"name\": \"Actresses\", \"type\": \"scatter\", \"x\": [1906, 1907, 1908, 1909, 1910, 1911, 1912, 1913, 1914, 1915, 1916, 1917, 1918, 1919, 1920, 1921, 1922, 1923, 1924, 1925, 1926, 1927, 1928, 1929, 1930, 1931, 1932, 1933, 1934, 1935, 1936, 1937, 1938, 1939, 1940, 1941, 1942, 1943, 1944, 1945, 1946, 1947, 1948, 1949, 1950, 1951, 1952, 1953, 1954, 1955, 1956, 1957, 1958, 1959, 1960, 1961, 1962, 1963, 1964, 1965, 1966, 1967, 1968, 1969, 1970, 1971, 1972, 1973, 1974, 1975, 1976, 1977, 1978, 1979, 1980, 1981, 1982, 1983, 1984, 1985, 1986, 1987, 1988, 1989, 1990, 1991, 1992, 1993, 1994, 1995, 1996, 1997, 1998, 1999, 2000, 2001, 2002, 2003, 2004, 2005, 2006, 2007, 2008, 2009, 2010, 2011, 2012, 2013, 2014, 2015, 2016, 2017, 2018, 2019, 2020, 2021], \"y\": [23.0, 26.4, 20.875, 28.88, 31.041666666666668, 35.23809523809524, 29.95754716981132, 30.265415549597854, 30.659147869674186, 31.299785867237688, 31.40599714421704, 30.822841726618705, 31.27238805970149, 31.925373134328357, 31.1938202247191, 31.60777225485766, 31.932565789473685, 30.350333940497876, 29.803331542181624, 29.87221633085896, 29.12452830188679, 29.251655629139073, 28.319555829734732, 28.282522996057818, 28.608262108262107, 28.891290111329404, 28.841001353179973, 29.68999300209937, 30.025449101796408, 29.551963048498845, 29.338213762811126, 29.8570268074736, 30.75595238095238, 30.757073170731708, 31.249738766980148, 31.253865979381445, 31.97741530740276, 32.85676741130092, 32.931087289433385, 32.817094017094014, 32.0, 32.3116395494368, 31.197714285714287, 31.948015122873347, 31.52363960749331, 31.60734463276836, 31.55832662912309, 31.61608497723824, 30.555049354593773, 30.64192439862543, 30.55222887558217, 30.540911930043723, 30.54319453076445, 30.489270386266096, 30.074505238649593, 30.523313219967086, 30.584808680753856, 30.090056285178235, 30.098209441128596, 30.074224707676667, 29.914107485604607, 29.67632850241546, 29.588495575221238, 29.735155916275097, 30.58815363257751, 29.877185314685313, 30.28013876843018, 31.2, 32.24106693507801, 31.735196589294173, 32.0448275862069, 33.176592439150696, 32.746105919003114, 33.050024521824426, 33.10307692307693, 33.204653622422, 33.43651626442812, 33.71218715995647, 33.647029204431014, 32.83418367346939, 32.4248046875, 33.48850574712644, 32.95637898686679, 32.25023084025854, 32.373877917414724, 34.68490783410138, 33.83092394720302, 34.17913520933425, 34.570206699928725, 33.13445995591477, 33.78220640569395, 32.610035842293904, 33.96806966618287, 33.70449826989619, 33.968346253229974, 34.019030079803564, 34.13035495716034, 33.753983428935626, 33.53240223463687, 33.404029692470836, 33.806060606060605, 34.106259097525474, 34.424360641525794, 35.21434820647419, 35.074536837570015, 35.58873720136519, 35.833113166006164, 36.3160577740017, 36.554022082018925, 36.807872174590806, 36.46207619713387, 37.70100037050759, 38.52560455192034, 39.48265227447957, 39.43344709897611, 40.22985216976633]}],\n",
              "                        {\"template\": {\"data\": {\"bar\": [{\"error_x\": {\"color\": \"#2a3f5f\"}, \"error_y\": {\"color\": \"#2a3f5f\"}, \"marker\": {\"line\": {\"color\": \"#E5ECF6\", \"width\": 0.5}}, \"type\": \"bar\"}], \"barpolar\": [{\"marker\": {\"line\": {\"color\": \"#E5ECF6\", \"width\": 0.5}}, \"type\": \"barpolar\"}], \"carpet\": [{\"aaxis\": {\"endlinecolor\": \"#2a3f5f\", \"gridcolor\": \"white\", \"linecolor\": \"white\", \"minorgridcolor\": \"white\", \"startlinecolor\": \"#2a3f5f\"}, \"baxis\": {\"endlinecolor\": \"#2a3f5f\", \"gridcolor\": \"white\", \"linecolor\": \"white\", \"minorgridcolor\": \"white\", \"startlinecolor\": \"#2a3f5f\"}, \"type\": \"carpet\"}], \"choropleth\": [{\"colorbar\": {\"outlinewidth\": 0, \"ticks\": \"\"}, \"type\": \"choropleth\"}], \"contour\": [{\"colorbar\": {\"outlinewidth\": 0, \"ticks\": \"\"}, \"colorscale\": [[0.0, \"#0d0887\"], [0.1111111111111111, \"#46039f\"], [0.2222222222222222, \"#7201a8\"], [0.3333333333333333, \"#9c179e\"], [0.4444444444444444, \"#bd3786\"], [0.5555555555555556, \"#d8576b\"], [0.6666666666666666, \"#ed7953\"], [0.7777777777777778, \"#fb9f3a\"], [0.8888888888888888, \"#fdca26\"], [1.0, \"#f0f921\"]], \"type\": \"contour\"}], \"contourcarpet\": [{\"colorbar\": {\"outlinewidth\": 0, \"ticks\": \"\"}, \"type\": \"contourcarpet\"}], \"heatmap\": [{\"colorbar\": {\"outlinewidth\": 0, \"ticks\": \"\"}, \"colorscale\": [[0.0, \"#0d0887\"], [0.1111111111111111, \"#46039f\"], [0.2222222222222222, \"#7201a8\"], [0.3333333333333333, \"#9c179e\"], [0.4444444444444444, \"#bd3786\"], [0.5555555555555556, \"#d8576b\"], [0.6666666666666666, \"#ed7953\"], [0.7777777777777778, \"#fb9f3a\"], [0.8888888888888888, \"#fdca26\"], [1.0, \"#f0f921\"]], \"type\": \"heatmap\"}], \"heatmapgl\": [{\"colorbar\": {\"outlinewidth\": 0, \"ticks\": \"\"}, \"colorscale\": [[0.0, \"#0d0887\"], [0.1111111111111111, \"#46039f\"], [0.2222222222222222, \"#7201a8\"], [0.3333333333333333, \"#9c179e\"], [0.4444444444444444, \"#bd3786\"], [0.5555555555555556, \"#d8576b\"], [0.6666666666666666, \"#ed7953\"], [0.7777777777777778, \"#fb9f3a\"], [0.8888888888888888, \"#fdca26\"], [1.0, \"#f0f921\"]], \"type\": \"heatmapgl\"}], \"histogram\": [{\"marker\": {\"colorbar\": {\"outlinewidth\": 0, \"ticks\": \"\"}}, \"type\": \"histogram\"}], \"histogram2d\": [{\"colorbar\": {\"outlinewidth\": 0, \"ticks\": \"\"}, \"colorscale\": [[0.0, \"#0d0887\"], [0.1111111111111111, \"#46039f\"], [0.2222222222222222, \"#7201a8\"], [0.3333333333333333, \"#9c179e\"], [0.4444444444444444, \"#bd3786\"], [0.5555555555555556, \"#d8576b\"], [0.6666666666666666, \"#ed7953\"], [0.7777777777777778, \"#fb9f3a\"], [0.8888888888888888, \"#fdca26\"], [1.0, \"#f0f921\"]], \"type\": \"histogram2d\"}], \"histogram2dcontour\": [{\"colorbar\": {\"outlinewidth\": 0, \"ticks\": \"\"}, \"colorscale\": [[0.0, \"#0d0887\"], [0.1111111111111111, \"#46039f\"], [0.2222222222222222, \"#7201a8\"], [0.3333333333333333, \"#9c179e\"], [0.4444444444444444, \"#bd3786\"], [0.5555555555555556, \"#d8576b\"], [0.6666666666666666, \"#ed7953\"], [0.7777777777777778, \"#fb9f3a\"], [0.8888888888888888, \"#fdca26\"], [1.0, \"#f0f921\"]], \"type\": \"histogram2dcontour\"}], \"mesh3d\": [{\"colorbar\": {\"outlinewidth\": 0, \"ticks\": \"\"}, \"type\": \"mesh3d\"}], \"parcoords\": [{\"line\": {\"colorbar\": {\"outlinewidth\": 0, \"ticks\": \"\"}}, \"type\": \"parcoords\"}], \"pie\": [{\"automargin\": true, \"type\": \"pie\"}], \"scatter\": [{\"marker\": {\"colorbar\": {\"outlinewidth\": 0, \"ticks\": \"\"}}, \"type\": \"scatter\"}], \"scatter3d\": [{\"line\": {\"colorbar\": {\"outlinewidth\": 0, \"ticks\": \"\"}}, \"marker\": {\"colorbar\": {\"outlinewidth\": 0, \"ticks\": \"\"}}, \"type\": \"scatter3d\"}], \"scattercarpet\": [{\"marker\": {\"colorbar\": {\"outlinewidth\": 0, \"ticks\": \"\"}}, \"type\": \"scattercarpet\"}], \"scattergeo\": [{\"marker\": {\"colorbar\": {\"outlinewidth\": 0, \"ticks\": \"\"}}, \"type\": \"scattergeo\"}], \"scattergl\": [{\"marker\": {\"colorbar\": {\"outlinewidth\": 0, \"ticks\": \"\"}}, \"type\": \"scattergl\"}], \"scattermapbox\": [{\"marker\": {\"colorbar\": {\"outlinewidth\": 0, \"ticks\": \"\"}}, \"type\": \"scattermapbox\"}], \"scatterpolar\": [{\"marker\": {\"colorbar\": {\"outlinewidth\": 0, \"ticks\": \"\"}}, \"type\": \"scatterpolar\"}], \"scatterpolargl\": [{\"marker\": {\"colorbar\": {\"outlinewidth\": 0, \"ticks\": \"\"}}, \"type\": \"scatterpolargl\"}], \"scatterternary\": [{\"marker\": {\"colorbar\": {\"outlinewidth\": 0, \"ticks\": \"\"}}, \"type\": \"scatterternary\"}], \"surface\": [{\"colorbar\": {\"outlinewidth\": 0, \"ticks\": \"\"}, \"colorscale\": [[0.0, \"#0d0887\"], [0.1111111111111111, \"#46039f\"], [0.2222222222222222, \"#7201a8\"], [0.3333333333333333, \"#9c179e\"], [0.4444444444444444, \"#bd3786\"], [0.5555555555555556, \"#d8576b\"], [0.6666666666666666, \"#ed7953\"], [0.7777777777777778, \"#fb9f3a\"], [0.8888888888888888, \"#fdca26\"], [1.0, \"#f0f921\"]], \"type\": \"surface\"}], \"table\": [{\"cells\": {\"fill\": {\"color\": \"#EBF0F8\"}, \"line\": {\"color\": \"white\"}}, \"header\": {\"fill\": {\"color\": \"#C8D4E3\"}, \"line\": {\"color\": \"white\"}}, \"type\": \"table\"}]}, \"layout\": {\"annotationdefaults\": {\"arrowcolor\": \"#2a3f5f\", \"arrowhead\": 0, \"arrowwidth\": 1}, \"coloraxis\": {\"colorbar\": {\"outlinewidth\": 0, \"ticks\": \"\"}}, \"colorscale\": {\"diverging\": [[0, \"#8e0152\"], [0.1, \"#c51b7d\"], [0.2, \"#de77ae\"], [0.3, \"#f1b6da\"], [0.4, \"#fde0ef\"], [0.5, \"#f7f7f7\"], [0.6, \"#e6f5d0\"], [0.7, \"#b8e186\"], [0.8, \"#7fbc41\"], [0.9, \"#4d9221\"], [1, \"#276419\"]], \"sequential\": [[0.0, \"#0d0887\"], [0.1111111111111111, \"#46039f\"], [0.2222222222222222, \"#7201a8\"], [0.3333333333333333, \"#9c179e\"], [0.4444444444444444, \"#bd3786\"], [0.5555555555555556, \"#d8576b\"], [0.6666666666666666, \"#ed7953\"], [0.7777777777777778, \"#fb9f3a\"], [0.8888888888888888, \"#fdca26\"], [1.0, \"#f0f921\"]], \"sequentialminus\": [[0.0, \"#0d0887\"], [0.1111111111111111, \"#46039f\"], [0.2222222222222222, \"#7201a8\"], [0.3333333333333333, \"#9c179e\"], [0.4444444444444444, \"#bd3786\"], [0.5555555555555556, \"#d8576b\"], [0.6666666666666666, \"#ed7953\"], [0.7777777777777778, \"#fb9f3a\"], [0.8888888888888888, \"#fdca26\"], [1.0, \"#f0f921\"]]}, \"colorway\": [\"#636efa\", \"#EF553B\", \"#00cc96\", \"#ab63fa\", \"#FFA15A\", \"#19d3f3\", \"#FF6692\", \"#B6E880\", \"#FF97FF\", \"#FECB52\"], \"font\": {\"color\": \"#2a3f5f\"}, \"geo\": {\"bgcolor\": \"white\", \"lakecolor\": \"white\", \"landcolor\": \"#E5ECF6\", \"showlakes\": true, \"showland\": true, \"subunitcolor\": \"white\"}, \"hoverlabel\": {\"align\": \"left\"}, \"hovermode\": \"closest\", \"mapbox\": {\"style\": \"light\"}, \"paper_bgcolor\": \"white\", \"plot_bgcolor\": \"#E5ECF6\", \"polar\": {\"angularaxis\": {\"gridcolor\": \"white\", \"linecolor\": \"white\", \"ticks\": \"\"}, \"bgcolor\": \"#E5ECF6\", \"radialaxis\": {\"gridcolor\": \"white\", \"linecolor\": \"white\", \"ticks\": \"\"}}, \"scene\": {\"xaxis\": {\"backgroundcolor\": \"#E5ECF6\", \"gridcolor\": \"white\", \"gridwidth\": 2, \"linecolor\": \"white\", \"showbackground\": true, \"ticks\": \"\", \"zerolinecolor\": \"white\"}, \"yaxis\": {\"backgroundcolor\": \"#E5ECF6\", \"gridcolor\": \"white\", \"gridwidth\": 2, \"linecolor\": \"white\", \"showbackground\": true, \"ticks\": \"\", \"zerolinecolor\": \"white\"}, \"zaxis\": {\"backgroundcolor\": \"#E5ECF6\", \"gridcolor\": \"white\", \"gridwidth\": 2, \"linecolor\": \"white\", \"showbackground\": true, \"ticks\": \"\", \"zerolinecolor\": \"white\"}}, \"shapedefaults\": {\"line\": {\"color\": \"#2a3f5f\"}}, \"ternary\": {\"aaxis\": {\"gridcolor\": \"white\", \"linecolor\": \"white\", \"ticks\": \"\"}, \"baxis\": {\"gridcolor\": \"white\", \"linecolor\": \"white\", \"ticks\": \"\"}, \"bgcolor\": \"#E5ECF6\", \"caxis\": {\"gridcolor\": \"white\", \"linecolor\": \"white\", \"ticks\": \"\"}}, \"title\": {\"x\": 0.05}, \"xaxis\": {\"automargin\": true, \"gridcolor\": \"white\", \"linecolor\": \"white\", \"ticks\": \"\", \"title\": {\"standoff\": 15}, \"zerolinecolor\": \"white\", \"zerolinewidth\": 2}, \"yaxis\": {\"automargin\": true, \"gridcolor\": \"white\", \"linecolor\": \"white\", \"ticks\": \"\", \"title\": {\"standoff\": 15}, \"zerolinecolor\": \"white\", \"zerolinewidth\": 2}}}, \"title\": {\"text\": \"Evolution of the average age of actors\"}, \"xaxis\": {\"dtick\": 10, \"tickangle\": -45, \"tickfont\": {\"size\": 12}, \"title\": {\"font\": {\"size\": 15}, \"text\": \"Production year\"}}, \"yaxis\": {\"dtick\": 5, \"tickfont\": {\"size\": 12}, \"title\": {\"font\": {\"size\": 15}, \"text\": \"Average actors age\"}}},\n",
              "                        {\"responsive\": true}\n",
              "                    ).then(function(){\n",
              "                            \n",
              "var gd = document.getElementById('f939bffd-9829-4911-8ae4-398e1022018f');\n",
              "var x = new MutationObserver(function (mutations, observer) {{\n",
              "        var display = window.getComputedStyle(gd).display;\n",
              "        if (!display || display === 'none') {{\n",
              "            console.log([gd, 'removed!']);\n",
              "            Plotly.purge(gd);\n",
              "            observer.disconnect();\n",
              "        }}\n",
              "}});\n",
              "\n",
              "// Listen for the removal of the full notebook cells\n",
              "var notebookContainer = gd.closest('#notebook-container');\n",
              "if (notebookContainer) {{\n",
              "    x.observe(notebookContainer, {childList: true});\n",
              "}}\n",
              "\n",
              "// Listen for the clearing of the current output cell\n",
              "var outputEl = gd.closest('.output');\n",
              "if (outputEl) {{\n",
              "    x.observe(outputEl, {childList: true});\n",
              "}}\n",
              "\n",
              "                        })\n",
              "                };\n",
              "                \n",
              "            </script>\n",
              "        </div>\n",
              "</body>\n",
              "</html>"
            ]
          },
          "metadata": {}
        }
      ]
    }
  ]
}